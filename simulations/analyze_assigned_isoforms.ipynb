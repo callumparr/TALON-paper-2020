{
 "cells": [
  {
   "cell_type": "code",
   "execution_count": 50,
   "id": "former-synthetic",
   "metadata": {},
   "outputs": [],
   "source": [
    "import pandas as pd"
   ]
  },
  {
   "cell_type": "code",
   "execution_count": 51,
   "id": "outdoor-millennium",
   "metadata": {},
   "outputs": [],
   "source": [
    "# sensitivity calculation\n",
    "def calc_sensitivity(df, dataset):\n",
    "    df = df.loc[df.dataset_type == dataset]\n",
    "    true_pos = df.loc[df.correct_transcript == True, 'counts'].sum()\n",
    "    false_neg = df.loc[df.correct_transcript == False, 'counts'].sum()\n",
    "    \n",
    "    sens = true_pos / (true_pos + false_neg)\n",
    "    \n",
    "    return sens"
   ]
  },
  {
   "cell_type": "code",
   "execution_count": 57,
   "id": "advanced-three",
   "metadata": {},
   "outputs": [],
   "source": [
    "df = pd.read_csv('talon/simulated_Gm12878_talon_read_annot.tsv', sep='\\t')\n",
    "\n",
    "df['control_tid'] = df.read_name.str.split(pat='_', n=1, expand=True)[0]\n",
    "df['talon_tid'] = df.annot_transcript_id.str.split(pat='.', n=1, expand=True)[0]\n",
    "df.loc[df.annot_transcript_id.str.contains('ENST'), ['control_tid', 'talon_tid', 'annot_transcript_id']].head()\n",
    "df.loc[df.annot_transcript_id.str.contains('ENST'), 'annot_transcript_id'].head()\n",
    "df['correct_transcript'] = df.control_tid == df.talon_tid\n",
    "df['dataset_type'] = 0\n",
    "df.loc[df.dataset.str.contains('perf'), 'dataset_type'] = 'Perfect'\n",
    "df.loc[~df.dataset.str.contains('perf'), 'dataset_type'] = 'Normal'"
   ]
  },
  {
   "cell_type": "code",
   "execution_count": 58,
   "id": "accepting-third",
   "metadata": {},
   "outputs": [
    {
     "name": "stdout",
     "output_type": "stream",
     "text": [
      "0.4225947057181051\n",
      "0.5553668260211552\n"
     ]
    }
   ],
   "source": [
    "# how good are these bois supported\n",
    "temp = df[['correct_transcript', 'transcript_novelty', 'dataset_type', 'read_name']].groupby(['correct_transcript', 'transcript_novelty', 'dataset_type']).count()\n",
    "temp.reset_index(inplace=True)\n",
    "temp.rename({'read_name':'counts'}, axis=1, inplace=True)\n",
    "\n",
    "print(calc_sensitivity(temp, 'Normal'))\n",
    "print(calc_sensitivity(temp, 'Perfect'))"
   ]
  },
  {
   "cell_type": "code",
   "execution_count": 60,
   "id": "entitled-consolidation",
   "metadata": {},
   "outputs": [
    {
     "data": {
      "text/html": [
       "<div>\n",
       "<style scoped>\n",
       "    .dataframe tbody tr th:only-of-type {\n",
       "        vertical-align: middle;\n",
       "    }\n",
       "\n",
       "    .dataframe tbody tr th {\n",
       "        vertical-align: top;\n",
       "    }\n",
       "\n",
       "    .dataframe thead th {\n",
       "        text-align: right;\n",
       "    }\n",
       "</style>\n",
       "<table border=\"1\" class=\"dataframe\">\n",
       "  <thead>\n",
       "    <tr style=\"text-align: right;\">\n",
       "      <th></th>\n",
       "      <th>correct_transcript</th>\n",
       "      <th>transcript_novelty</th>\n",
       "      <th>dataset_type</th>\n",
       "      <th>counts</th>\n",
       "    </tr>\n",
       "  </thead>\n",
       "  <tbody>\n",
       "    <tr>\n",
       "      <th>1</th>\n",
       "      <td>False</td>\n",
       "      <td>Antisense</td>\n",
       "      <td>Perfect</td>\n",
       "      <td>4401</td>\n",
       "    </tr>\n",
       "    <tr>\n",
       "      <th>3</th>\n",
       "      <td>False</td>\n",
       "      <td>Genomic</td>\n",
       "      <td>Perfect</td>\n",
       "      <td>211261</td>\n",
       "    </tr>\n",
       "    <tr>\n",
       "      <th>5</th>\n",
       "      <td>False</td>\n",
       "      <td>ISM</td>\n",
       "      <td>Perfect</td>\n",
       "      <td>1154159</td>\n",
       "    </tr>\n",
       "    <tr>\n",
       "      <th>7</th>\n",
       "      <td>False</td>\n",
       "      <td>Intergenic</td>\n",
       "      <td>Perfect</td>\n",
       "      <td>5343</td>\n",
       "    </tr>\n",
       "    <tr>\n",
       "      <th>9</th>\n",
       "      <td>False</td>\n",
       "      <td>Known</td>\n",
       "      <td>Perfect</td>\n",
       "      <td>320289</td>\n",
       "    </tr>\n",
       "    <tr>\n",
       "      <th>11</th>\n",
       "      <td>False</td>\n",
       "      <td>NIC</td>\n",
       "      <td>Perfect</td>\n",
       "      <td>8331</td>\n",
       "    </tr>\n",
       "    <tr>\n",
       "      <th>13</th>\n",
       "      <td>False</td>\n",
       "      <td>NNC</td>\n",
       "      <td>Perfect</td>\n",
       "      <td>27823</td>\n",
       "    </tr>\n",
       "    <tr>\n",
       "      <th>15</th>\n",
       "      <td>True</td>\n",
       "      <td>Known</td>\n",
       "      <td>Perfect</td>\n",
       "      <td>2162855</td>\n",
       "    </tr>\n",
       "  </tbody>\n",
       "</table>\n",
       "</div>"
      ],
      "text/plain": [
       "    correct_transcript transcript_novelty dataset_type   counts\n",
       "1                False          Antisense      Perfect     4401\n",
       "3                False            Genomic      Perfect   211261\n",
       "5                False                ISM      Perfect  1154159\n",
       "7                False         Intergenic      Perfect     5343\n",
       "9                False              Known      Perfect   320289\n",
       "11               False                NIC      Perfect     8331\n",
       "13               False                NNC      Perfect    27823\n",
       "15                True              Known      Perfect  2162855"
      ]
     },
     "execution_count": 60,
     "metadata": {},
     "output_type": "execute_result"
    }
   ],
   "source": [
    "temp.loc[temp.dataset_type == 'Perfect']"
   ]
  },
  {
   "cell_type": "code",
   "execution_count": 64,
   "id": "bright-conjunction",
   "metadata": {},
   "outputs": [
    {
     "name": "stdout",
     "output_type": "stream",
     "text": [
      "3894462\n",
      "0.29635903495784527\n"
     ]
    }
   ],
   "source": [
    "print(temp.loc[temp.dataset_type=='Perfect','counts'].sum())\n",
    "print(1154159/temp.loc[temp.dataset_type=='Perfect','counts'].sum())"
   ]
  },
  {
   "cell_type": "code",
   "execution_count": 65,
   "id": "protected-northern",
   "metadata": {},
   "outputs": [
    {
     "name": "stdout",
     "output_type": "stream",
     "text": [
      "6018225\n"
     ]
    }
   ],
   "source": [
    "# total number of reads\n",
    "print(temp.counts.sum())"
   ]
  },
  {
   "cell_type": "code",
   "execution_count": 66,
   "id": "ecological-ensemble",
   "metadata": {},
   "outputs": [],
   "source": [
    "# filter for NIC, NNC that pass filter\n",
    "pass_list = pd.read_csv('talon/whitelist.csv', header=None, names=['gene_ID', 'transcript_ID'])\n",
    "df = df.merge(pass_list, on=['transcript_ID', 'gene_ID'], how='inner')\n",
    "df = df.loc[df.transcript_novelty.isin(['Known', 'NIC', 'NNC'])]"
   ]
  },
  {
   "cell_type": "code",
   "execution_count": 67,
   "id": "chicken-divorce",
   "metadata": {},
   "outputs": [
    {
     "name": "stdout",
     "output_type": "stream",
     "text": [
      "0.8319314722600213\n",
      "0.8628842256989668\n"
     ]
    }
   ],
   "source": [
    "# how good are these bois supported\n",
    "temp = df[['correct_transcript', 'transcript_novelty', 'dataset_type', 'read_name']].groupby(['correct_transcript', 'transcript_novelty', 'dataset_type']).count()\n",
    "temp.reset_index(inplace=True)\n",
    "temp.rename({'read_name':'counts'}, axis=1, inplace=True)\n",
    "\n",
    "print(calc_sensitivity(temp, 'Normal'))\n",
    "print(calc_sensitivity(temp, 'Perfect'))"
   ]
  },
  {
   "cell_type": "code",
   "execution_count": 68,
   "id": "experimental-organizer",
   "metadata": {},
   "outputs": [
    {
     "name": "stdout",
     "output_type": "stream",
     "text": [
      "3554172\n"
     ]
    }
   ],
   "source": [
    "# total number of reads \n",
    "print(temp.counts.sum())"
   ]
  },
  {
   "cell_type": "code",
   "execution_count": 69,
   "id": "labeled-realtor",
   "metadata": {},
   "outputs": [
    {
     "data": {
      "text/plain": [
       "2464053"
      ]
     },
     "execution_count": 69,
     "metadata": {},
     "output_type": "execute_result"
    }
   ],
   "source": [
    "6018225-3554172"
   ]
  },
  {
   "cell_type": "code",
   "execution_count": null,
   "id": "exact-break",
   "metadata": {},
   "outputs": [],
   "source": []
  }
 ],
 "metadata": {
  "kernelspec": {
   "display_name": "Python 3",
   "language": "python",
   "name": "python3"
  },
  "language_info": {
   "codemirror_mode": {
    "name": "ipython",
    "version": 3
   },
   "file_extension": ".py",
   "mimetype": "text/x-python",
   "name": "python",
   "nbconvert_exporter": "python",
   "pygments_lexer": "ipython3",
   "version": "3.7.4"
  }
 },
 "nbformat": 4,
 "nbformat_minor": 5
}
