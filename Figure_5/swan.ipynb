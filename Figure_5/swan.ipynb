{
 "cells": [
  {
   "cell_type": "code",
   "execution_count": 1,
   "id": "frozen-symposium",
   "metadata": {},
   "outputs": [
    {
     "name": "stderr",
     "output_type": "stream",
     "text": [
      "/Users/fairliereese/miniconda3/lib/python3.7/site-packages/anndata/_core/anndata.py:21: FutureWarning: pandas.core.index is deprecated and will be removed in a future version.  The public classes are available in the top-level namespace.\n",
      "  from pandas.core.index import RangeIndex\n"
     ]
    }
   ],
   "source": [
    "import swan_vis as swan\n",
    "import pandas as pd"
   ]
  },
  {
   "cell_type": "code",
   "execution_count": 22,
   "id": "eastern-oxford",
   "metadata": {},
   "outputs": [],
   "source": [
    "sg = swan.SwanGraph()"
   ]
  },
  {
   "cell_type": "code",
   "execution_count": 23,
   "id": "preceding-catch",
   "metadata": {},
   "outputs": [
    {
     "name": "stdout",
     "output_type": "stream",
     "text": [
      "\n",
      "Adding dataset Cortex to the SwanGraph\n"
     ]
    }
   ],
   "source": [
    "# cortex \n",
    "gtf = 'Brain_revised_both.gtf'\n",
    "ab_file = 'Brain_talon_abundance_filtered.tsv'\n",
    "cols = ['PacBio_Cortex_Rep1', 'PacBio_Cortex_Rep2']\n",
    "sg.add_dataset('Cortex', gtf, counts_file=ab_file, count_cols=cols)"
   ]
  },
  {
   "cell_type": "code",
   "execution_count": 24,
   "id": "enclosed-implement",
   "metadata": {},
   "outputs": [
    {
     "name": "stdout",
     "output_type": "stream",
     "text": [
      "\n",
      "Adding dataset Hippocampus to the SwanGraph\n"
     ]
    }
   ],
   "source": [
    "# hippocampus \n",
    "gtf = 'Brain_revised_both.gtf'\n",
    "ab_file = 'Brain_talon_abundance_filtered.tsv'\n",
    "cols = ['PacBio_Hippocampus_Rep1', 'PacBio_Hippocampus_Rep2']\n",
    "sg.add_dataset('Hippocampus', gtf, counts_file=ab_file, count_cols=cols)"
   ]
  },
  {
   "cell_type": "code",
   "execution_count": 25,
   "id": "interracial-prayer",
   "metadata": {},
   "outputs": [
    {
     "name": "stdout",
     "output_type": "stream",
     "text": [
      "Saving graph as swan.p\n"
     ]
    }
   ],
   "source": [
    "sg.save_graph('swan')"
   ]
  },
  {
   "cell_type": "code",
   "execution_count": 26,
   "id": "green-hazard",
   "metadata": {},
   "outputs": [
    {
     "name": "stdout",
     "output_type": "stream",
     "text": [
      "\n",
      "Plotting transcripts for ENSMUSG00000028248.15\n",
      "Saving transcript path graph for ENCODEMT000409037 as plots/Pnisr_browser_ENCODEMT000409037_path.png\n",
      "Saving transcript path graph for ENSMUST00000029911.11 as plots/Pnisr_browser_ENSMUST00000029911.11_path.png\n",
      "Saving transcript path graph for ENSMUST00000108229.1 as plots/Pnisr_browser_ENSMUST00000108229.1_path.png\n",
      "Saving transcript path graph for ENSMUST00000152666.7 as plots/Pnisr_browser_ENSMUST00000152666.7_path.png\n",
      "Saving transcript path graph for ENSMUST00000138681.7 as plots/Pnisr_browser_ENSMUST00000138681.7_path.png\n",
      "Generating report for ENSMUSG00000028248.15\n"
     ]
    }
   ],
   "source": [
    "gname = 'Pnisr'\n",
    "sg.gen_report(gname, prefix='plots/{}'.format(gname),\n",
    "    heatmap=True, \n",
    "    cmap='viridis', \n",
    "    browser=True,\n",
    "    novelty=True)"
   ]
  },
  {
   "cell_type": "code",
   "execution_count": null,
   "id": "exceptional-bedroom",
   "metadata": {},
   "outputs": [],
   "source": []
  }
 ],
 "metadata": {
  "kernelspec": {
   "display_name": "Python 3",
   "language": "python",
   "name": "python3"
  },
  "language_info": {
   "codemirror_mode": {
    "name": "ipython",
    "version": 3
   },
   "file_extension": ".py",
   "mimetype": "text/x-python",
   "name": "python",
   "nbconvert_exporter": "python",
   "pygments_lexer": "ipython3",
   "version": "3.7.4"
  }
 },
 "nbformat": 4,
 "nbformat_minor": 5
}
