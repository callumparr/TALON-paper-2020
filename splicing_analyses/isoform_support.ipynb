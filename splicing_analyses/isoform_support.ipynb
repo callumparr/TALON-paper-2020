{
 "cells": [
  {
   "cell_type": "code",
   "execution_count": 4,
   "id": "alive-westminster",
   "metadata": {},
   "outputs": [],
   "source": [
    "import pandas as pd\n",
    "import matplotlib.pyplot as plt\n",
    "import seaborn as sns\n",
    "# sns.set_context('paper', font_scale=2)    \n"
   ]
  },
  {
   "cell_type": "code",
   "execution_count": 375,
   "id": "electronic-employer",
   "metadata": {},
   "outputs": [],
   "source": [
    "def get_talon_nov_colors(samples=None, how='normal'):\n",
    "    c_dict = {'Known': '#009E73',\n",
    "              'ISM': '#0072B2',\n",
    "              'NIC': '#D55E00',\n",
    "              'NNC': '#E69F00',\n",
    "              'Antisense': '#000000',\n",
    "              'Intergenic': '#CC79A7',\n",
    "              'Genomic': '#F0E442'}\n",
    "    if how == 'light_40':\n",
    "        c_dict =  {'Known': '#66c5ab',\n",
    "         'ISM':'#66aad1',\n",
    "         'NIC': '#e69e66',\n",
    "         'NNC': '#f0c566',\n",
    "         'Antisense': '#666666',\n",
    "         'Intergenic': '#e0afca',\n",
    "         'Genomic': '#f6ef8e'}\n",
    "    elif how == 'light_20':\n",
    "        c_dict =  {'Known': '#33b18f',\n",
    "         'ISM':'#338ec1',\n",
    "         'NIC': '#dd7e33',\n",
    "         'NNC': '#ebb233',\n",
    "         'Antisense': '#333333',\n",
    "         'Intergenic': '#d694b9',\n",
    "         'Genomic': '#f3e968'}\n",
    "        \n",
    "    order = ['Known', 'ISM', 'NIC', 'NNC', 'Antisense', 'Intergenic', 'Genomic']\n",
    "    if samples:\n",
    "        keys = c_dict.keys()\n",
    "        pop_list = []\n",
    "        for key in keys:\n",
    "            if key not in samples:\n",
    "                pop_list.append(key)\n",
    "        for p in pop_list:\n",
    "            del c_dict[p]\n",
    "        order = [o for o in order if o in samples]   \n",
    "    return c_dict, order"
   ]
  },
  {
   "cell_type": "code",
   "execution_count": 373,
   "id": "adjacent-newsletter",
   "metadata": {},
   "outputs": [],
   "source": [
    "def compute_prop_support(sj_file, ab_file, opref):\n",
    "    sj_df = pd.read_csv(sj_file, sep='\\t')\n",
    "    ab = pd.read_csv(ab_file, sep='\\t')  \n",
    "    \n",
    "    # merge with ab to get novelty info\n",
    "    ab = ab[['annot_transcript_id', 'transcript_novelty']]\n",
    "    sj_df = sj_df.merge(ab, how='left', left_on='tid', right_on='annot_transcript_id')    \n",
    "    \n",
    "    # count up splice junctions per transcript\n",
    "    sjs_per_t = sj_df[['tid', 'sj_id']].groupby('tid').count()\n",
    "    sjs_per_t.reset_index(inplace=True)\n",
    "    sjs_per_t.rename({'sj_id':'total_sjs'}, axis=1, inplace=True)\n",
    "    \n",
    "    # groupby transcript id and illumina support\n",
    "    sj_df = sj_df[['tid', 'transcript_novelty', 'illumina_support', 'sj_id']].groupby(['tid', 'transcript_novelty', 'illumina_support']).count()\n",
    "    sj_df.reset_index(inplace=True)\n",
    "    sj_df.rename({'sj_id':'n_sjs'}, axis=1, inplace=True)\n",
    "    \n",
    "    # merge with total sjs and calc % supported\n",
    "    sj_df = sj_df.merge(sjs_per_t, how='left', on='tid')\n",
    "    sj_df['perc_supported'] = (sj_df.n_sjs/sj_df.total_sjs)*100\n",
    "    \n",
    "    # remove unsupported bois\n",
    "    sj_df = sj_df.loc[sj_df.illumina_support == True]\n",
    "\n",
    "    # drop antisense, intergenic, and genomic cause they bad\n",
    "    novs = ['Known', 'ISM', 'NIC', 'NNC']\n",
    "    sj_df = sj_df.loc[sj_df.transcript_novelty.isin(novs)]\n",
    "    \n",
    "    # plot plot\n",
    "    plt.figure(figsize=(8.5,8.5))\n",
    "#     sns.set(font_scale=1.50)\n",
    "\n",
    "\t# font sizes\n",
    "    plt.rc('font', size=14)\n",
    "\n",
    "    c_dict, order = get_talon_nov_colors(novs)\n",
    "    ax = sns.violinplot(data=sj_df, x='transcript_novelty', y='perc_supported', order=order, palette=c_dict, saturation=1, linewidth=0.5)\n",
    "    ax.set_ylabel('% SJs in transcript supported by Illumina')\n",
    "    ax.set_xlabel('Isoform Novelty')\n",
    "    ax.spines['right'].set_visible(False)\n",
    "    ax.spines['top'].set_visible(False)\n",
    "    fname = '{}_illumina_sj_support.pdf'.format(opref)\n",
    "    plt.savefig(fname)\n",
    "    \n",
    "    # average and median of each category\n",
    "    for n in novs: \n",
    "        temp = sj_df.loc[sj_df.transcript_novelty==n]\n",
    "        print()\n",
    "        print('Mean % Illumina supported SJs for {}: {}'.format(n, temp.perc_supported.mean()))\n",
    "        print('Median % Illumina supported SJs for {}: {}'.format(n, temp.perc_supported.median()))    "
   ]
  },
  {
   "cell_type": "code",
   "execution_count": 8,
   "id": "stuck-failure",
   "metadata": {},
   "outputs": [],
   "source": [
    "def plot_unsupp_sjs_by_nov(sj_file, sj_nov_file, oprefix):\n",
    "    sj_df = pd.read_csv(sj_file, sep='\\t')\n",
    "    nov_df = pd.read_csv(sj_nov_file, sep='\\t', header=None, \n",
    "        usecols=[0,1,2,3,9], names=['chrom', 'start', 'stop', 'strand', 'novelty'])\n",
    "    \n",
    "    nov_df['sj_id'] = nov_df.chrom+'_'+nov_df.start.astype(str)+'_'+nov_df.stop.astype(str)+'_'+nov_df.strand.astype(str)\n",
    "    nov_df = nov_df[['sj_id', 'novelty']]\n",
    "    \n",
    "    # limit to just sjs with no illumina support\n",
    "    sj_df = sj_df.loc[sj_df.illumina_support == False]\n",
    "\n",
    "    # merge with novelty of splice junctions\n",
    "    sj_df = sj_df.merge(nov_df, how='left', on='sj_id')\n",
    "    \n",
    "    sj_df = sj_df[['sj_id', 'novelty']]\n",
    "    sj_df.drop_duplicates(inplace=True)\n",
    "\n",
    "    # groupby and count # of Illumina-supported SJs per SJ novelty category\n",
    "    sj_df = sj_df.groupby('novelty').count()\n",
    "    sj_df.reset_index(inplace=True)\n",
    "    sj_df.rename({'sj_id':'sj_count'}, axis=1, inplace=True)\n",
    "    \n",
    "    # plot plot\n",
    "    plt.figure(figsize=(8.5,8.5))\n",
    "    plt.rc('font', size=14)\n",
    "\n",
    "#     sns.set(font_scale=1.50)\n",
    "    c_dict, order = get_talon_nov_colors(['Known', 'NIC', 'NNC'])\n",
    "    ax = sns.barplot(data=sj_df, x='novelty', y='sj_count', palette=c_dict, hue_order=order, saturation=1)\n",
    "    ax.set_ylabel('Number of SJs unsupported by Illumina')\n",
    "    ax.set_xlabel('SJ Novelty')\n",
    "    ax.spines['right'].set_visible(False)\n",
    "    ax.spines['top'].set_visible(False)\n",
    "    add_n(ax, sj_df, 'sj_count')\n",
    "    \n",
    "    fname = '{}_ill_unsupported_sj_novelty.pdf'.format(oprefix)\n",
    "    plt.savefig(fname)"
   ]
  },
  {
   "cell_type": "markdown",
   "id": "above-dryer",
   "metadata": {},
   "source": [
    "## PacBio"
   ]
  },
  {
   "cell_type": "code",
   "execution_count": 26,
   "id": "greater-reward",
   "metadata": {},
   "outputs": [],
   "source": [
    "def add_n(ax, data, feature):\n",
    "    total = data[feature].sum()\n",
    "    ylim = ax.get_ylim()[1]\n",
    "    for p in ax.patches:\n",
    "        percentage = '{:,.0f}'.format(p.get_height())\n",
    "        x_scale = 0.03*len(percentage)\n",
    "        x = p.get_x() + p.get_width() / 2 - x_scale\n",
    "        y = p.get_y() + p.get_height() + ylim*0.01\n",
    "        ax.annotate(percentage, (x, y), size = 15)"
   ]
  },
  {
   "cell_type": "code",
   "execution_count": 27,
   "id": "responsible-reservation",
   "metadata": {},
   "outputs": [
    {
     "name": "stdout",
     "output_type": "stream",
     "text": [
      "\n",
      "Mean % Illumina supported SJs for Known: 96.49993710385937\n",
      "Median % Illumina supported SJs for Known: 100.0\n",
      "\n",
      "Mean % Illumina supported SJs for ISM: 99.5236694953262\n",
      "Median % Illumina supported SJs for ISM: 100.0\n",
      "\n",
      "Mean % Illumina supported SJs for NIC: 98.11438401683239\n",
      "Median % Illumina supported SJs for NIC: 100.0\n",
      "\n",
      "Mean % Illumina supported SJs for NNC: 93.48281695577082\n",
      "Median % Illumina supported SJs for NNC: 100.0\n"
     ]
    },
    {
     "data": {
      "image/png": "[encoded data removed]",
      "text/plain": [
       "<Figure size 612x612 with 1 Axes>"
      ]
     },
     "metadata": {
      "needs_background": "light"
     },
     "output_type": "display_data"
    }
   ],
   "source": [
    "sj_file = 'pb_GM12878_sj_tid_support.tsv'\n",
    "ab_file = 'pb_ont_talon_abundance_filtered.tsv'\n",
    "\n",
    "compute_prop_support(sj_file, ab_file, 'figures/PB_GM12878')"
   ]
  },
  {
   "cell_type": "code",
   "execution_count": 28,
   "id": "framed-edward",
   "metadata": {},
   "outputs": [
    {
     "data": {
      "image/png": "[encoded data removed]",
      "text/plain": [
       "<Figure size 612x612 with 1 Axes>"
      ]
     },
     "metadata": {
      "needs_background": "light"
     },
     "output_type": "display_data"
    }
   ],
   "source": [
    "sj_file = 'pb_GM12878_sj_tid_support.tsv'\n",
    "sj_nov_file = 'pb_talon_GM12878_sjs_novelty.tab'\n",
    "\n",
    "plot_unsupp_sjs_by_nov(sj_file, sj_nov_file, 'figures/PB_GM12878')"
   ]
  },
  {
   "cell_type": "markdown",
   "id": "iraqi-syracuse",
   "metadata": {},
   "source": [
    "## ONT"
   ]
  },
  {
   "cell_type": "code",
   "execution_count": 29,
   "id": "streaming-crime",
   "metadata": {},
   "outputs": [
    {
     "name": "stdout",
     "output_type": "stream",
     "text": [
      "\n",
      "Mean % Illumina supported SJs for Known: 94.39099416715977\n",
      "Median % Illumina supported SJs for Known: 100.0\n",
      "\n",
      "Mean % Illumina supported SJs for ISM: 96.67296784336611\n",
      "Median % Illumina supported SJs for ISM: 100.0\n",
      "\n",
      "Mean % Illumina supported SJs for NIC: 82.87438998469071\n",
      "Median % Illumina supported SJs for NIC: 85.71428571428571\n",
      "\n",
      "Mean % Illumina supported SJs for NNC: 81.26478960319763\n",
      "Median % Illumina supported SJs for NNC: 83.33333333333334\n"
     ]
    },
    {
     "data": {
      "image/png": "[encoded data removed]",
      "text/plain": [
       "<Figure size 612x612 with 1 Axes>"
      ]
     },
     "metadata": {
      "needs_background": "light"
     },
     "output_type": "display_data"
    }
   ],
   "source": [
    "sj_file = 'ont_GM12878_sj_tid_support.tsv'\n",
    "ab_file = 'pb_ont_talon_abundance_filtered.tsv'\n",
    "\n",
    "compute_prop_support(sj_file, ab_file, 'figures/ONT_GM12878')"
   ]
  },
  {
   "cell_type": "code",
   "execution_count": 30,
   "id": "manual-andrews",
   "metadata": {},
   "outputs": [
    {
     "data": {
      "image/png": "[encoded data removed]",
      "text/plain": [
       "<Figure size 612x612 with 1 Axes>"
      ]
     },
     "metadata": {
      "needs_background": "light"
     },
     "output_type": "display_data"
    }
   ],
   "source": [
    "sj_file = 'ont_GM12878_sj_tid_support.tsv'\n",
    "sj_nov_file = 'ont_talon_GM12878_sjs_novelty.tab'\n",
    "\n",
    "plot_unsupp_sjs_by_nov(sj_file, sj_nov_file, 'figures/ONT_GM12878')"
   ]
  },
  {
   "cell_type": "code",
   "execution_count": 378,
   "id": "stopped-canyon",
   "metadata": {},
   "outputs": [
    {
     "name": "stdout",
     "output_type": "stream",
     "text": [
      "29236\n"
     ]
    },
    {
     "data": {
      "image/png": "[encoded data removed]",
      "text/plain": [
       "<Figure size 612x612 with 1 Axes>"
      ]
     },
     "metadata": {},
     "output_type": "display_data"
    }
   ],
   "source": [
    "sj_support = 'pb_GM12878_sj_tid_support.tsv'\n",
    "ab = 'pb_ont_talon_abundance_filtered.tsv'\n",
    "sj_nov = 'pb_talon_GM12878_sjs_novelty.tab'\n",
    "\n",
    "nov = comput_suport(sj_support, ab, sj_nov)\n",
    "plot_plot(nov, 'pb_GM12878')"
   ]
  },
  {
   "cell_type": "code",
   "execution_count": 379,
   "id": "knowing-hungary",
   "metadata": {},
   "outputs": [
    {
     "name": "stdout",
     "output_type": "stream",
     "text": [
      "28241\n"
     ]
    },
    {
     "data": {
      "image/png": "[encoded data removed]",
      "text/plain": [
       "<Figure size 612x612 with 1 Axes>"
      ]
     },
     "metadata": {},
     "output_type": "display_data"
    }
   ],
   "source": [
    "sj_support = 'ont_GM12878_sj_tid_support.tsv'\n",
    "ab = 'pb_ont_talon_abundance_filtered.tsv'\n",
    "sj_nov = 'ont_talon_GM12878_sjs_novelty.tab'\n",
    "\n",
    "nov = comput_suport(sj_support, ab, sj_nov)\n",
    "plot_plot(nov, 'ont_GM12878')"
   ]
  },
  {
   "cell_type": "code",
   "execution_count": 359,
   "id": "double-lingerie",
   "metadata": {},
   "outputs": [],
   "source": [
    "def comput_suport(sj_support, ab, sj_nov):\n",
    "    df = pd.read_csv(sj_support, sep='\\t')\n",
    "    ab = pd.read_csv(ab, sep='\\t')\n",
    "    ab = ab[['annot_transcript_id', 'transcript_novelty']]\n",
    "    df = df.merge(ab, how='left', left_on='tid', right_on='annot_transcript_id')\n",
    "\n",
    "    support_df = df.loc[~df.tid.duplicated()]\n",
    "    print(len(support_df.index))\n",
    "    support_df = support_df[['tid', 'transcript_novelty']].groupby('transcript_novelty').count()\n",
    "    support_df.reset_index(inplace=True)\n",
    "    support_df.rename({'tid':'n_tids'}, axis=1, inplace=True)\n",
    "\n",
    "    # merge with information about sj support\n",
    "    nov_df = pd.read_csv(sj_nov, sep='\\t', header=None, \n",
    "            usecols=[0,1,2,3,9], names=['chrom', 'start', 'stop', 'strand', 'sj_novelty'])\n",
    "    nov_df['sj_id'] = nov_df.chrom+'_'+nov_df.start.astype(str)+'_'+nov_df.stop.astype(str)+'_'+nov_df.strand.astype(str)\n",
    "    nov_df = nov_df[['sj_id', 'sj_novelty']]\n",
    "\n",
    "    # merge with novelty of splice junctions\n",
    "    df = df.merge(nov_df, how='left', on='sj_id')\n",
    "\n",
    "    # count sjs per transcript\n",
    "    sjs_per_t = df[['tid', 'transcript_novelty', 'sj_id']].groupby(['tid', 'transcript_novelty']).count()\n",
    "    sjs_per_t.reset_index(inplace=True)\n",
    "    sjs_per_t.rename({'sj_id':'total_sjs'}, axis=1, inplace=True)\n",
    "\n",
    "    # what novelty are the remaining ones wrt gencode splice junctions? \n",
    "    temp = df[['tid', 'transcript_novelty', 'illumina_support', 'sj_id']].groupby(['tid', 'transcript_novelty', 'illumina_support']).count()\n",
    "    temp.reset_index(inplace=True)\n",
    "    temp.rename({'sj_id':'n_sjs_illumina'}, axis=1, inplace=True)\n",
    "    temp = temp.loc[temp.illumina_support == True]\n",
    "\n",
    "    # merge in with sjs per t\n",
    "    sjs_per_t = sjs_per_t.merge(temp[['tid', 'n_sjs_illumina']], how='left', on='tid')\n",
    "\n",
    "    # count the number of sjs per transcript that are supported by illumina or gencode\n",
    "    df['ill_or_known'] = (df.illumina_support==True)|(df.sj_novelty=='Known')\n",
    "    temp = df[['tid', 'ill_or_known', 'sj_id']].groupby(['tid', 'ill_or_known']).count()\n",
    "    temp.reset_index(inplace=True)\n",
    "    temp.rename({'sj_id':'n_sjs_ill_known'}, axis=1, inplace=True)\n",
    "    temp = temp.loc[temp.ill_or_known == True]\n",
    "\n",
    "    # merge in with sjs per t\n",
    "    sjs_per_t = sjs_per_t.merge(temp[['tid', 'n_sjs_ill_known']], how='left', on='tid')\n",
    "\n",
    "    # count the number of sjs/sss per transcript that are supported by illumina or gencode\n",
    "    df['ill_known_nic'] = (df.illumina_support==True)|(df.sj_novelty.isin(['NIC', 'Known']))\n",
    "    temp = df[['tid', 'ill_known_nic', 'sj_id']].groupby(['tid', 'ill_known_nic']).count()\n",
    "    temp.reset_index(inplace=True)\n",
    "    temp.rename({'sj_id':'n_sjs_ill_known_nic'}, axis=1, inplace=True)\n",
    "    temp = temp.loc[temp.ill_known_nic == True]\n",
    "\n",
    "    # merge in with sjs per t\n",
    "    sjs_per_t = sjs_per_t.merge(temp[['tid', 'n_sjs_ill_known_nic']], how='left', on='tid')\n",
    "\n",
    "    # fill nans with 0\n",
    "    sjs_per_t.fillna(0, inplace=True)\n",
    "\n",
    "    sjs_per_t['total_percent'] = 100\n",
    "    # sjs_per_t['ill_percent'] = (sjs_per_t.n_sjs_illumina/sjs_per_t.total_sjs)*100\n",
    "    # sjs_per_t['ill_known_percent'] = (sjs_per_t.n_sjs_ill_known/sjs_per_t.total_sjs)*100\n",
    "    # sjs_per_t['ill_known_nic_percent'] = (sjs_per_t.n_sjs_ill_known_nic/sjs_per_t.total_sjs)*100\n",
    "\n",
    "    sjs_per_t['full_ill_support'] = sjs_per_t.total_sjs == sjs_per_t.n_sjs_illumina\n",
    "    sjs_per_t['full_ill_known_support'] = sjs_per_t.total_sjs == sjs_per_t.n_sjs_ill_known\n",
    "    sjs_per_t['full_ill_known_nic_support'] = sjs_per_t.total_sjs == sjs_per_t.n_sjs_ill_known_nic\n",
    "    sjs_per_t.head()\n",
    "\n",
    "    nov = sjs_per_t[['tid', 'transcript_novelty']].groupby('transcript_novelty').count()\n",
    "    nov.reset_index(inplace=True)\n",
    "    nov.rename({'tid': 'n_transcripts'},axis=1, inplace=True)\n",
    "\n",
    "    temp = sjs_per_t[['tid', 'transcript_novelty', 'full_ill_support']].groupby(['transcript_novelty', 'full_ill_support']).count()\n",
    "    temp.reset_index(inplace=True)\n",
    "    temp = temp.loc[temp.full_ill_support == True]\n",
    "    temp.rename({'tid': 'ill_support'}, axis=1, inplace=True)\n",
    "    temp = temp[['transcript_novelty', 'ill_support']]\n",
    "\n",
    "    nov = nov.merge(temp, how='left', on='transcript_novelty')\n",
    "\n",
    "    temp = sjs_per_t[['tid', 'transcript_novelty', 'full_ill_known_support']].groupby(['transcript_novelty', 'full_ill_known_support']).count()\n",
    "    temp.reset_index(inplace=True)\n",
    "    temp = temp.loc[temp.full_ill_known_support == True]\n",
    "    temp.rename({'tid': 'ill_known_support'}, axis=1, inplace=True)\n",
    "    temp = temp[['transcript_novelty', 'ill_known_support']]\n",
    "\n",
    "    nov = nov.merge(temp, how='left', on='transcript_novelty')\n",
    "\n",
    "    temp = sjs_per_t[['tid', 'transcript_novelty', 'full_ill_known_nic_support']].groupby(['transcript_novelty', 'full_ill_known_nic_support']).count()\n",
    "    temp.reset_index(inplace=True)\n",
    "    temp = temp.loc[temp.full_ill_known_nic_support == True]\n",
    "    temp.rename({'tid': 'ill_known_nic_support'}, axis=1, inplace=True)\n",
    "    temp = temp[['transcript_novelty', 'ill_known_nic_support']]\n",
    "\n",
    "    nov = nov.merge(temp, how='left', on='transcript_novelty')\n",
    "\n",
    "    cols = ['ill', 'ill_known', 'ill_known_nic']\n",
    "    for c in cols: \n",
    "        nov['{}_perc'.format(c)] = (nov['{}_support'.format(c)]/nov['n_transcripts'])*100\n",
    "    nov['total_percent'] =100\n",
    "    return nov"
   ]
  },
  {
   "cell_type": "code",
   "execution_count": 250,
   "id": "included-bosnia",
   "metadata": {
    "jupyter": {
     "source_hidden": true
    }
   },
   "outputs": [],
   "source": [
    "df = pd.read_csv('pb_GM12878_sj_tid_support.tsv', sep='\\t')\n",
    "ab = pd.read_csv('pb_ont_talon_abundance_filtered.tsv', sep='\\t')\n",
    "ab = ab[['annot_transcript_id', 'transcript_novelty']]\n",
    "df = df.merge(ab, how='left', left_on='tid', right_on='annot_transcript_id')"
   ]
  },
  {
   "cell_type": "code",
   "execution_count": 251,
   "id": "fifteen-signature",
   "metadata": {
    "collapsed": true,
    "jupyter": {
     "outputs_hidden": true,
     "source_hidden": true
    }
   },
   "outputs": [
    {
     "name": "stdout",
     "output_type": "stream",
     "text": [
      "29236\n"
     ]
    }
   ],
   "source": [
    "support_df = df.loc[~df.tid.duplicated()]\n",
    "print(len(support_df.index))\n",
    "support_df = support_df[['tid', 'transcript_novelty']].groupby('transcript_novelty').count()\n",
    "support_df.reset_index(inplace=True)\n",
    "support_df.rename({'tid':'n_tids'}, axis=1, inplace=True)"
   ]
  },
  {
   "cell_type": "code",
   "execution_count": 252,
   "id": "angry-gravity",
   "metadata": {
    "jupyter": {
     "source_hidden": true
    }
   },
   "outputs": [],
   "source": [
    "# merge with information about sj support\n",
    "nov_df = pd.read_csv('pb_talon_GM12878_sjs_novelty.tab', sep='\\t', header=None, \n",
    "        usecols=[0,1,2,3,9], names=['chrom', 'start', 'stop', 'strand', 'sj_novelty'])\n",
    "nov_df['sj_id'] = nov_df.chrom+'_'+nov_df.start.astype(str)+'_'+nov_df.stop.astype(str)+'_'+nov_df.strand.astype(str)\n",
    "nov_df = nov_df[['sj_id', 'sj_novelty']]\n",
    "\n",
    "# merge with novelty of splice junctions\n",
    "df = df.merge(nov_df, how='left', on='sj_id')"
   ]
  },
  {
   "cell_type": "code",
   "execution_count": 253,
   "id": "coupled-advertising",
   "metadata": {
    "jupyter": {
     "source_hidden": true
    }
   },
   "outputs": [],
   "source": [
    "# count sjs per transcript\n",
    "sjs_per_t = df[['tid', 'transcript_novelty', 'sj_id']].groupby(['tid', 'transcript_novelty']).count()\n",
    "sjs_per_t.reset_index(inplace=True)\n",
    "sjs_per_t.rename({'sj_id':'total_sjs'}, axis=1, inplace=True)"
   ]
  },
  {
   "cell_type": "code",
   "execution_count": 254,
   "id": "lovely-rally",
   "metadata": {
    "collapsed": true,
    "jupyter": {
     "outputs_hidden": true,
     "source_hidden": true
    }
   },
   "outputs": [
    {
     "name": "stdout",
     "output_type": "stream",
     "text": [
      "29236\n"
     ]
    }
   ],
   "source": [
    "print(len(sjs_per_t.index))"
   ]
  },
  {
   "cell_type": "code",
   "execution_count": 255,
   "id": "modular-giant",
   "metadata": {
    "jupyter": {
     "source_hidden": true
    }
   },
   "outputs": [],
   "source": [
    "# what novelty are the remaining ones wrt gencode splice junctions? \n",
    "temp = df[['tid', 'transcript_novelty', 'illumina_support', 'sj_id']].groupby(['tid', 'transcript_novelty', 'illumina_support']).count()\n",
    "temp.reset_index(inplace=True)\n",
    "temp.rename({'sj_id':'n_sjs_illumina'}, axis=1, inplace=True)\n",
    "temp = temp.loc[temp.illumina_support == True]"
   ]
  },
  {
   "cell_type": "code",
   "execution_count": 256,
   "id": "annual-heater",
   "metadata": {
    "jupyter": {
     "source_hidden": true
    }
   },
   "outputs": [],
   "source": [
    "# merge in with sjs per t\n",
    "sjs_per_t = sjs_per_t.merge(temp[['tid', 'n_sjs_illumina']], how='left', on='tid')"
   ]
  },
  {
   "cell_type": "code",
   "execution_count": 257,
   "id": "scenic-opening",
   "metadata": {
    "collapsed": true,
    "jupyter": {
     "outputs_hidden": true,
     "source_hidden": true
    }
   },
   "outputs": [
    {
     "data": {
      "text/html": [
       "<div>\n",
       "<style scoped>\n",
       "    .dataframe tbody tr th:only-of-type {\n",
       "        vertical-align: middle;\n",
       "    }\n",
       "\n",
       "    .dataframe tbody tr th {\n",
       "        vertical-align: top;\n",
       "    }\n",
       "\n",
       "    .dataframe thead th {\n",
       "        text-align: right;\n",
       "    }\n",
       "</style>\n",
       "<table border=\"1\" class=\"dataframe\">\n",
       "  <thead>\n",
       "    <tr style=\"text-align: right;\">\n",
       "      <th></th>\n",
       "      <th>tid</th>\n",
       "      <th>transcript_novelty</th>\n",
       "      <th>total_sjs</th>\n",
       "      <th>n_sjs_illumina</th>\n",
       "    </tr>\n",
       "  </thead>\n",
       "  <tbody>\n",
       "    <tr>\n",
       "      <th>0</th>\n",
       "      <td>ENCODEHT000207494</td>\n",
       "      <td>NIC</td>\n",
       "      <td>20</td>\n",
       "      <td>20.0</td>\n",
       "    </tr>\n",
       "    <tr>\n",
       "      <th>1</th>\n",
       "      <td>ENCODEHT000207610</td>\n",
       "      <td>NIC</td>\n",
       "      <td>10</td>\n",
       "      <td>10.0</td>\n",
       "    </tr>\n",
       "    <tr>\n",
       "      <th>2</th>\n",
       "      <td>ENCODEHT000207695</td>\n",
       "      <td>ISM</td>\n",
       "      <td>5</td>\n",
       "      <td>5.0</td>\n",
       "    </tr>\n",
       "    <tr>\n",
       "      <th>3</th>\n",
       "      <td>ENCODEHT000207709</td>\n",
       "      <td>ISM</td>\n",
       "      <td>2</td>\n",
       "      <td>2.0</td>\n",
       "    </tr>\n",
       "    <tr>\n",
       "      <th>4</th>\n",
       "      <td>ENCODEHT000207748</td>\n",
       "      <td>ISM</td>\n",
       "      <td>6</td>\n",
       "      <td>6.0</td>\n",
       "    </tr>\n",
       "  </tbody>\n",
       "</table>\n",
       "</div>"
      ],
      "text/plain": [
       "                 tid transcript_novelty  total_sjs  n_sjs_illumina\n",
       "0  ENCODEHT000207494                NIC         20            20.0\n",
       "1  ENCODEHT000207610                NIC         10            10.0\n",
       "2  ENCODEHT000207695                ISM          5             5.0\n",
       "3  ENCODEHT000207709                ISM          2             2.0\n",
       "4  ENCODEHT000207748                ISM          6             6.0"
      ]
     },
     "execution_count": 257,
     "metadata": {},
     "output_type": "execute_result"
    }
   ],
   "source": [
    "sjs_per_t.head()"
   ]
  },
  {
   "cell_type": "code",
   "execution_count": 258,
   "id": "informed-forward",
   "metadata": {
    "jupyter": {
     "source_hidden": true
    }
   },
   "outputs": [],
   "source": [
    "# count the number of sjs per transcript that are supported by illumina or gencode\n",
    "df['ill_or_known'] = (df.illumina_support==True)|(df.sj_novelty=='Known')\n",
    "temp = df[['tid', 'ill_or_known', 'sj_id']].groupby(['tid', 'ill_or_known']).count()\n",
    "temp.reset_index(inplace=True)\n",
    "temp.rename({'sj_id':'n_sjs_ill_known'}, axis=1, inplace=True)\n",
    "temp = temp.loc[temp.ill_or_known == True]"
   ]
  },
  {
   "cell_type": "code",
   "execution_count": 259,
   "id": "discrete-interstate",
   "metadata": {
    "jupyter": {
     "source_hidden": true
    }
   },
   "outputs": [],
   "source": [
    "# merge in with sjs per t\n",
    "sjs_per_t = sjs_per_t.merge(temp[['tid', 'n_sjs_ill_known']], how='left', on='tid')"
   ]
  },
  {
   "cell_type": "code",
   "execution_count": 260,
   "id": "bored-labor",
   "metadata": {
    "jupyter": {
     "source_hidden": true
    }
   },
   "outputs": [],
   "source": [
    "# count the number of sjs/sss per transcript that are supported by illumina or gencode\n",
    "df['ill_known_nic'] = (df.illumina_support==True)|(df.sj_novelty.isin(['NIC', 'Known']))\n",
    "temp = df[['tid', 'ill_known_nic', 'sj_id']].groupby(['tid', 'ill_known_nic']).count()\n",
    "temp.reset_index(inplace=True)\n",
    "temp.rename({'sj_id':'n_sjs_ill_known_nic'}, axis=1, inplace=True)\n",
    "temp = temp.loc[temp.ill_known_nic == True]"
   ]
  },
  {
   "cell_type": "code",
   "execution_count": 261,
   "id": "complex-leisure",
   "metadata": {
    "jupyter": {
     "source_hidden": true
    }
   },
   "outputs": [],
   "source": [
    "# merge in with sjs per t\n",
    "sjs_per_t = sjs_per_t.merge(temp[['tid', 'n_sjs_ill_known_nic']], how='left', on='tid')"
   ]
  },
  {
   "cell_type": "code",
   "execution_count": 269,
   "id": "virtual-granny",
   "metadata": {
    "jupyter": {
     "source_hidden": true
    }
   },
   "outputs": [],
   "source": [
    "# fill nans with 0\n",
    "sjs_per_t.fillna(0, inplace=True)"
   ]
  },
  {
   "cell_type": "code",
   "execution_count": 282,
   "id": "dominant-afternoon",
   "metadata": {
    "collapsed": true,
    "jupyter": {
     "outputs_hidden": true,
     "source_hidden": true
    }
   },
   "outputs": [
    {
     "data": {
      "text/html": [
       "<div>\n",
       "<style scoped>\n",
       "    .dataframe tbody tr th:only-of-type {\n",
       "        vertical-align: middle;\n",
       "    }\n",
       "\n",
       "    .dataframe tbody tr th {\n",
       "        vertical-align: top;\n",
       "    }\n",
       "\n",
       "    .dataframe thead th {\n",
       "        text-align: right;\n",
       "    }\n",
       "</style>\n",
       "<table border=\"1\" class=\"dataframe\">\n",
       "  <thead>\n",
       "    <tr style=\"text-align: right;\">\n",
       "      <th></th>\n",
       "      <th>tid</th>\n",
       "      <th>transcript_novelty</th>\n",
       "      <th>total_sjs</th>\n",
       "      <th>n_sjs_illumina</th>\n",
       "      <th>n_sjs_ill_known</th>\n",
       "      <th>n_sjs_ill_known_nic</th>\n",
       "      <th>total_percent</th>\n",
       "      <th>ill_percent</th>\n",
       "      <th>ill_known_percent</th>\n",
       "      <th>ill_known_nic_percent</th>\n",
       "      <th>full_ill_support</th>\n",
       "      <th>full_ill_known_support</th>\n",
       "      <th>full_ill_known_nic_support</th>\n",
       "    </tr>\n",
       "  </thead>\n",
       "  <tbody>\n",
       "    <tr>\n",
       "      <th>0</th>\n",
       "      <td>ENCODEHT000207494</td>\n",
       "      <td>NIC</td>\n",
       "      <td>20</td>\n",
       "      <td>20.0</td>\n",
       "      <td>20.0</td>\n",
       "      <td>20.0</td>\n",
       "      <td>100</td>\n",
       "      <td>100.0</td>\n",
       "      <td>100.0</td>\n",
       "      <td>100.0</td>\n",
       "      <td>True</td>\n",
       "      <td>True</td>\n",
       "      <td>True</td>\n",
       "    </tr>\n",
       "    <tr>\n",
       "      <th>1</th>\n",
       "      <td>ENCODEHT000207610</td>\n",
       "      <td>NIC</td>\n",
       "      <td>10</td>\n",
       "      <td>10.0</td>\n",
       "      <td>10.0</td>\n",
       "      <td>10.0</td>\n",
       "      <td>100</td>\n",
       "      <td>100.0</td>\n",
       "      <td>100.0</td>\n",
       "      <td>100.0</td>\n",
       "      <td>True</td>\n",
       "      <td>True</td>\n",
       "      <td>True</td>\n",
       "    </tr>\n",
       "    <tr>\n",
       "      <th>2</th>\n",
       "      <td>ENCODEHT000207695</td>\n",
       "      <td>ISM</td>\n",
       "      <td>5</td>\n",
       "      <td>5.0</td>\n",
       "      <td>5.0</td>\n",
       "      <td>5.0</td>\n",
       "      <td>100</td>\n",
       "      <td>100.0</td>\n",
       "      <td>100.0</td>\n",
       "      <td>100.0</td>\n",
       "      <td>True</td>\n",
       "      <td>True</td>\n",
       "      <td>True</td>\n",
       "    </tr>\n",
       "    <tr>\n",
       "      <th>3</th>\n",
       "      <td>ENCODEHT000207709</td>\n",
       "      <td>ISM</td>\n",
       "      <td>2</td>\n",
       "      <td>2.0</td>\n",
       "      <td>2.0</td>\n",
       "      <td>2.0</td>\n",
       "      <td>100</td>\n",
       "      <td>100.0</td>\n",
       "      <td>100.0</td>\n",
       "      <td>100.0</td>\n",
       "      <td>True</td>\n",
       "      <td>True</td>\n",
       "      <td>True</td>\n",
       "    </tr>\n",
       "    <tr>\n",
       "      <th>4</th>\n",
       "      <td>ENCODEHT000207748</td>\n",
       "      <td>ISM</td>\n",
       "      <td>6</td>\n",
       "      <td>6.0</td>\n",
       "      <td>6.0</td>\n",
       "      <td>6.0</td>\n",
       "      <td>100</td>\n",
       "      <td>100.0</td>\n",
       "      <td>100.0</td>\n",
       "      <td>100.0</td>\n",
       "      <td>True</td>\n",
       "      <td>True</td>\n",
       "      <td>True</td>\n",
       "    </tr>\n",
       "  </tbody>\n",
       "</table>\n",
       "</div>"
      ],
      "text/plain": [
       "                 tid transcript_novelty  total_sjs  n_sjs_illumina  \\\n",
       "0  ENCODEHT000207494                NIC         20            20.0   \n",
       "1  ENCODEHT000207610                NIC         10            10.0   \n",
       "2  ENCODEHT000207695                ISM          5             5.0   \n",
       "3  ENCODEHT000207709                ISM          2             2.0   \n",
       "4  ENCODEHT000207748                ISM          6             6.0   \n",
       "\n",
       "   n_sjs_ill_known  n_sjs_ill_known_nic  total_percent  ill_percent  \\\n",
       "0             20.0                 20.0            100        100.0   \n",
       "1             10.0                 10.0            100        100.0   \n",
       "2              5.0                  5.0            100        100.0   \n",
       "3              2.0                  2.0            100        100.0   \n",
       "4              6.0                  6.0            100        100.0   \n",
       "\n",
       "   ill_known_percent  ill_known_nic_percent  full_ill_support  \\\n",
       "0              100.0                  100.0              True   \n",
       "1              100.0                  100.0              True   \n",
       "2              100.0                  100.0              True   \n",
       "3              100.0                  100.0              True   \n",
       "4              100.0                  100.0              True   \n",
       "\n",
       "   full_ill_known_support  full_ill_known_nic_support  \n",
       "0                    True                        True  \n",
       "1                    True                        True  \n",
       "2                    True                        True  \n",
       "3                    True                        True  \n",
       "4                    True                        True  "
      ]
     },
     "execution_count": 282,
     "metadata": {},
     "output_type": "execute_result"
    }
   ],
   "source": [
    "sjs_per_t['total_percent'] = 100\n",
    "# sjs_per_t['ill_percent'] = (sjs_per_t.n_sjs_illumina/sjs_per_t.total_sjs)*100\n",
    "# sjs_per_t['ill_known_percent'] = (sjs_per_t.n_sjs_ill_known/sjs_per_t.total_sjs)*100\n",
    "# sjs_per_t['ill_known_nic_percent'] = (sjs_per_t.n_sjs_ill_known_nic/sjs_per_t.total_sjs)*100\n",
    "\n",
    "sjs_per_t['full_ill_support'] = sjs_per_t.total_sjs == sjs_per_t.n_sjs_illumina\n",
    "sjs_per_t['full_ill_known_support'] = sjs_per_t.total_sjs == sjs_per_t.n_sjs_ill_known\n",
    "sjs_per_t['full_ill_known_nic_support'] = sjs_per_t.total_sjs == sjs_per_t.n_sjs_ill_known_nic\n",
    "sjs_per_t.head()"
   ]
  },
  {
   "cell_type": "code",
   "execution_count": 317,
   "id": "dynamic-video",
   "metadata": {
    "jupyter": {
     "source_hidden": true
    }
   },
   "outputs": [],
   "source": [
    "nov = sjs_per_t[['tid', 'transcript_novelty']].groupby('transcript_novelty').count()\n",
    "nov.reset_index(inplace=True)\n",
    "nov.rename({'tid': 'n_transcripts'},axis=1, inplace=True)"
   ]
  },
  {
   "cell_type": "code",
   "execution_count": 318,
   "id": "introductory-crisis",
   "metadata": {
    "collapsed": true,
    "jupyter": {
     "outputs_hidden": true,
     "source_hidden": true
    }
   },
   "outputs": [
    {
     "data": {
      "text/html": [
       "<div>\n",
       "<style scoped>\n",
       "    .dataframe tbody tr th:only-of-type {\n",
       "        vertical-align: middle;\n",
       "    }\n",
       "\n",
       "    .dataframe tbody tr th {\n",
       "        vertical-align: top;\n",
       "    }\n",
       "\n",
       "    .dataframe thead th {\n",
       "        text-align: right;\n",
       "    }\n",
       "</style>\n",
       "<table border=\"1\" class=\"dataframe\">\n",
       "  <thead>\n",
       "    <tr style=\"text-align: right;\">\n",
       "      <th></th>\n",
       "      <th>transcript_novelty</th>\n",
       "      <th>n_transcripts</th>\n",
       "    </tr>\n",
       "  </thead>\n",
       "  <tbody>\n",
       "    <tr>\n",
       "      <th>0</th>\n",
       "      <td>Antisense</td>\n",
       "      <td>10</td>\n",
       "    </tr>\n",
       "    <tr>\n",
       "      <th>1</th>\n",
       "      <td>ISM</td>\n",
       "      <td>2759</td>\n",
       "    </tr>\n",
       "    <tr>\n",
       "      <th>2</th>\n",
       "      <td>Intergenic</td>\n",
       "      <td>4</td>\n",
       "    </tr>\n",
       "    <tr>\n",
       "      <th>3</th>\n",
       "      <td>Known</td>\n",
       "      <td>24340</td>\n",
       "    </tr>\n",
       "    <tr>\n",
       "      <th>4</th>\n",
       "      <td>NIC</td>\n",
       "      <td>1532</td>\n",
       "    </tr>\n",
       "  </tbody>\n",
       "</table>\n",
       "</div>"
      ],
      "text/plain": [
       "  transcript_novelty  n_transcripts\n",
       "0          Antisense             10\n",
       "1                ISM           2759\n",
       "2         Intergenic              4\n",
       "3              Known          24340\n",
       "4                NIC           1532"
      ]
     },
     "execution_count": 318,
     "metadata": {},
     "output_type": "execute_result"
    }
   ],
   "source": [
    "nov.head()"
   ]
  },
  {
   "cell_type": "code",
   "execution_count": 319,
   "id": "suited-disclosure",
   "metadata": {
    "jupyter": {
     "source_hidden": true
    }
   },
   "outputs": [],
   "source": [
    "temp = sjs_per_t[['tid', 'transcript_novelty', 'full_ill_support']].groupby(['transcript_novelty', 'full_ill_support']).count()\n",
    "temp.reset_index(inplace=True)\n",
    "temp = temp.loc[temp.full_ill_support == True]\n",
    "temp.rename({'tid': 'ill_support'}, axis=1, inplace=True)\n",
    "temp = temp[['transcript_novelty', 'ill_support']]\n",
    "\n",
    "nov = nov.merge(temp, how='left', on='transcript_novelty')"
   ]
  },
  {
   "cell_type": "code",
   "execution_count": 320,
   "id": "available-offering",
   "metadata": {
    "jupyter": {
     "source_hidden": true
    }
   },
   "outputs": [],
   "source": [
    "temp = sjs_per_t[['tid', 'transcript_novelty', 'full_ill_known_support']].groupby(['transcript_novelty', 'full_ill_known_support']).count()\n",
    "temp.reset_index(inplace=True)\n",
    "temp = temp.loc[temp.full_ill_known_support == True]\n",
    "temp.rename({'tid': 'ill_known_support'}, axis=1, inplace=True)\n",
    "temp = temp[['transcript_novelty', 'ill_known_support']]\n",
    "\n",
    "nov = nov.merge(temp, how='left', on='transcript_novelty')"
   ]
  },
  {
   "cell_type": "code",
   "execution_count": 321,
   "id": "naughty-deployment",
   "metadata": {
    "jupyter": {
     "source_hidden": true
    }
   },
   "outputs": [],
   "source": [
    "temp = sjs_per_t[['tid', 'transcript_novelty', 'full_ill_known_nic_support']].groupby(['transcript_novelty', 'full_ill_known_nic_support']).count()\n",
    "temp.reset_index(inplace=True)\n",
    "temp = temp.loc[temp.full_ill_known_nic_support == True]\n",
    "temp.rename({'tid': 'ill_known_nic_support'}, axis=1, inplace=True)\n",
    "temp = temp[['transcript_novelty', 'ill_known_nic_support']]\n",
    "\n",
    "nov = nov.merge(temp, how='left', on='transcript_novelty')"
   ]
  },
  {
   "cell_type": "code",
   "execution_count": 322,
   "id": "assumed-princeton",
   "metadata": {
    "collapsed": true,
    "jupyter": {
     "outputs_hidden": true,
     "source_hidden": true
    }
   },
   "outputs": [
    {
     "data": {
      "text/html": [
       "<div>\n",
       "<style scoped>\n",
       "    .dataframe tbody tr th:only-of-type {\n",
       "        vertical-align: middle;\n",
       "    }\n",
       "\n",
       "    .dataframe tbody tr th {\n",
       "        vertical-align: top;\n",
       "    }\n",
       "\n",
       "    .dataframe thead th {\n",
       "        text-align: right;\n",
       "    }\n",
       "</style>\n",
       "<table border=\"1\" class=\"dataframe\">\n",
       "  <thead>\n",
       "    <tr style=\"text-align: right;\">\n",
       "      <th></th>\n",
       "      <th>transcript_novelty</th>\n",
       "      <th>n_transcripts</th>\n",
       "      <th>ill_support</th>\n",
       "      <th>ill_known_support</th>\n",
       "      <th>ill_known_nic_support</th>\n",
       "    </tr>\n",
       "  </thead>\n",
       "  <tbody>\n",
       "    <tr>\n",
       "      <th>0</th>\n",
       "      <td>Antisense</td>\n",
       "      <td>10</td>\n",
       "      <td>2</td>\n",
       "      <td>2</td>\n",
       "      <td>2</td>\n",
       "    </tr>\n",
       "    <tr>\n",
       "      <th>1</th>\n",
       "      <td>ISM</td>\n",
       "      <td>2759</td>\n",
       "      <td>2686</td>\n",
       "      <td>2737</td>\n",
       "      <td>2740</td>\n",
       "    </tr>\n",
       "    <tr>\n",
       "      <th>2</th>\n",
       "      <td>Intergenic</td>\n",
       "      <td>4</td>\n",
       "      <td>4</td>\n",
       "      <td>4</td>\n",
       "      <td>4</td>\n",
       "    </tr>\n",
       "    <tr>\n",
       "      <th>3</th>\n",
       "      <td>Known</td>\n",
       "      <td>24340</td>\n",
       "      <td>20880</td>\n",
       "      <td>24340</td>\n",
       "      <td>24340</td>\n",
       "    </tr>\n",
       "    <tr>\n",
       "      <th>4</th>\n",
       "      <td>NIC</td>\n",
       "      <td>1532</td>\n",
       "      <td>1349</td>\n",
       "      <td>1403</td>\n",
       "      <td>1451</td>\n",
       "    </tr>\n",
       "    <tr>\n",
       "      <th>5</th>\n",
       "      <td>NNC</td>\n",
       "      <td>591</td>\n",
       "      <td>372</td>\n",
       "      <td>373</td>\n",
       "      <td>373</td>\n",
       "    </tr>\n",
       "  </tbody>\n",
       "</table>\n",
       "</div>"
      ],
      "text/plain": [
       "  transcript_novelty  n_transcripts  ill_support  ill_known_support  \\\n",
       "0          Antisense             10            2                  2   \n",
       "1                ISM           2759         2686               2737   \n",
       "2         Intergenic              4            4                  4   \n",
       "3              Known          24340        20880              24340   \n",
       "4                NIC           1532         1349               1403   \n",
       "5                NNC            591          372                373   \n",
       "\n",
       "   ill_known_nic_support  \n",
       "0                      2  \n",
       "1                   2740  \n",
       "2                      4  \n",
       "3                  24340  \n",
       "4                   1451  \n",
       "5                    373  "
      ]
     },
     "execution_count": 322,
     "metadata": {},
     "output_type": "execute_result"
    }
   ],
   "source": [
    "nov"
   ]
  },
  {
   "cell_type": "code",
   "execution_count": 324,
   "id": "defined-grant",
   "metadata": {
    "jupyter": {
     "source_hidden": true
    }
   },
   "outputs": [],
   "source": [
    "cols = ['ill', 'ill_known', 'ill_known_nic']\n",
    "for c in cols: \n",
    "    nov['{}_perc'.format(c)] = (nov['{}_support'.format(c)]/nov['n_transcripts'])*100"
   ]
  },
  {
   "cell_type": "code",
   "execution_count": 326,
   "id": "adult-constant",
   "metadata": {
    "jupyter": {
     "source_hidden": true
    }
   },
   "outputs": [
    {
     "data": {
      "text/html": [
       "<div>\n",
       "<style scoped>\n",
       "    .dataframe tbody tr th:only-of-type {\n",
       "        vertical-align: middle;\n",
       "    }\n",
       "\n",
       "    .dataframe tbody tr th {\n",
       "        vertical-align: top;\n",
       "    }\n",
       "\n",
       "    .dataframe thead th {\n",
       "        text-align: right;\n",
       "    }\n",
       "</style>\n",
       "<table border=\"1\" class=\"dataframe\">\n",
       "  <thead>\n",
       "    <tr style=\"text-align: right;\">\n",
       "      <th></th>\n",
       "      <th>transcript_novelty</th>\n",
       "      <th>n_transcripts</th>\n",
       "      <th>ill_support</th>\n",
       "      <th>ill_known_support</th>\n",
       "      <th>ill_known_nic_support</th>\n",
       "      <th>ill_perc</th>\n",
       "      <th>ill_known_perc</th>\n",
       "      <th>ill_known_nic_perc</th>\n",
       "      <th>total_percent</th>\n",
       "    </tr>\n",
       "  </thead>\n",
       "  <tbody>\n",
       "    <tr>\n",
       "      <th>0</th>\n",
       "      <td>Antisense</td>\n",
       "      <td>10</td>\n",
       "      <td>2</td>\n",
       "      <td>2</td>\n",
       "      <td>2</td>\n",
       "      <td>20.000000</td>\n",
       "      <td>20.000000</td>\n",
       "      <td>20.000000</td>\n",
       "      <td>100</td>\n",
       "    </tr>\n",
       "    <tr>\n",
       "      <th>1</th>\n",
       "      <td>ISM</td>\n",
       "      <td>2759</td>\n",
       "      <td>2686</td>\n",
       "      <td>2737</td>\n",
       "      <td>2740</td>\n",
       "      <td>97.354114</td>\n",
       "      <td>99.202610</td>\n",
       "      <td>99.311345</td>\n",
       "      <td>100</td>\n",
       "    </tr>\n",
       "    <tr>\n",
       "      <th>2</th>\n",
       "      <td>Intergenic</td>\n",
       "      <td>4</td>\n",
       "      <td>4</td>\n",
       "      <td>4</td>\n",
       "      <td>4</td>\n",
       "      <td>100.000000</td>\n",
       "      <td>100.000000</td>\n",
       "      <td>100.000000</td>\n",
       "      <td>100</td>\n",
       "    </tr>\n",
       "    <tr>\n",
       "      <th>3</th>\n",
       "      <td>Known</td>\n",
       "      <td>24340</td>\n",
       "      <td>20880</td>\n",
       "      <td>24340</td>\n",
       "      <td>24340</td>\n",
       "      <td>85.784717</td>\n",
       "      <td>100.000000</td>\n",
       "      <td>100.000000</td>\n",
       "      <td>100</td>\n",
       "    </tr>\n",
       "    <tr>\n",
       "      <th>4</th>\n",
       "      <td>NIC</td>\n",
       "      <td>1532</td>\n",
       "      <td>1349</td>\n",
       "      <td>1403</td>\n",
       "      <td>1451</td>\n",
       "      <td>88.054830</td>\n",
       "      <td>91.579634</td>\n",
       "      <td>94.712794</td>\n",
       "      <td>100</td>\n",
       "    </tr>\n",
       "    <tr>\n",
       "      <th>5</th>\n",
       "      <td>NNC</td>\n",
       "      <td>591</td>\n",
       "      <td>372</td>\n",
       "      <td>373</td>\n",
       "      <td>373</td>\n",
       "      <td>62.944162</td>\n",
       "      <td>63.113367</td>\n",
       "      <td>63.113367</td>\n",
       "      <td>100</td>\n",
       "    </tr>\n",
       "  </tbody>\n",
       "</table>\n",
       "</div>"
      ],
      "text/plain": [
       "  transcript_novelty  n_transcripts  ill_support  ill_known_support  \\\n",
       "0          Antisense             10            2                  2   \n",
       "1                ISM           2759         2686               2737   \n",
       "2         Intergenic              4            4                  4   \n",
       "3              Known          24340        20880              24340   \n",
       "4                NIC           1532         1349               1403   \n",
       "5                NNC            591          372                373   \n",
       "\n",
       "   ill_known_nic_support    ill_perc  ill_known_perc  ill_known_nic_perc  \\\n",
       "0                      2   20.000000       20.000000           20.000000   \n",
       "1                   2740   97.354114       99.202610           99.311345   \n",
       "2                      4  100.000000      100.000000          100.000000   \n",
       "3                  24340   85.784717      100.000000          100.000000   \n",
       "4                   1451   88.054830       91.579634           94.712794   \n",
       "5                    373   62.944162       63.113367           63.113367   \n",
       "\n",
       "   total_percent  \n",
       "0            100  \n",
       "1            100  \n",
       "2            100  \n",
       "3            100  \n",
       "4            100  \n",
       "5            100  "
      ]
     },
     "execution_count": 326,
     "metadata": {},
     "output_type": "execute_result"
    }
   ],
   "source": [
    "nov['total_percent'] =100\n",
    "nov"
   ]
  },
  {
   "cell_type": "code",
   "execution_count": 377,
   "id": "coupled-patient",
   "metadata": {},
   "outputs": [],
   "source": [
    "def plot_plot(nov, opref):\n",
    "    \n",
    "    c_dict, order = get_talon_nov_colors(['Known', 'ISM', 'NIC', 'NNC', 'Intergenic', 'Antisense'])\n",
    "    c_dict_40, order = get_talon_nov_colors(['Known', 'ISM', 'NIC', 'NNC', 'Intergenic', 'Antisense'], how='light_40')\n",
    "    c_dict_20, order = get_talon_nov_colors(['Known', 'ISM', 'NIC', 'NNC', 'Intergenic', 'Antisense'], how='light_20')\n",
    "\n",
    "    \n",
    "    # plotting\n",
    "    plt.figure(figsize=(8.5,8.5))\n",
    "    sns.set(font_scale=1.5, style=\"whitegrid\")\n",
    "\n",
    "    # font sizes\n",
    "    plt.rc('font', size=14)\n",
    "\n",
    "    top_plot = sns.barplot(x='transcript_novelty', y='total_percent', data=nov, \n",
    "        color='white', order=order, edgecolor='black')\n",
    "    p2 = sns.barplot(x='transcript_novelty', y='ill_known_nic_perc', \n",
    "        data=nov, palette=c_dict_40, order=order,\n",
    "        edgecolor='black', saturation=1)\n",
    "    p2 = sns.barplot(x='transcript_novelty', y='ill_known_perc', \n",
    "        data=nov, palette=c_dict_20, saturation=1, order=order,\n",
    "        edgecolor='black')\n",
    "    bottom_plot = sns.barplot(x='transcript_novelty', y='ill_perc', \n",
    "        data=nov, palette=c_dict, saturation=1, order=order,\n",
    "        edgecolor='black')\n",
    "\n",
    "    topbar = plt.Rectangle((0,0),1,1,fc='white', edgecolor='black')\n",
    "    bottombar = plt.Rectangle((0,0),1,1,fc='#0000A3',  edgecolor='black')\n",
    "\n",
    "    # plt.title('{} SJ Support by Isoform Novelty'.format(args.sample_name))\n",
    "    plt.xlabel('')\n",
    "    bottom_plot.set_ylabel(\"Percent of Isoforms with 100% SJ Support\")\n",
    "    for ntype, p in zip(order, bottom_plot.patches):\n",
    "        height = p.get_height()\n",
    "        bottom_plot.text(p.get_x()+p.get_width()/2.,\n",
    "                height + .3,\n",
    "                'n={}'.format(nov.loc[nov['transcript_novelty']==ntype]['n_transcripts'].values[0]),\n",
    "                ha=\"center\")\n",
    "    # bottom_plot.set_xticklabels(bottom_plot.get_xticklabels(), fontsize=14)    # fontsize of the x and y labels\n",
    "    fname = '{}_sj_support_isoform.pdf'.format(opref)\n",
    "    plt.savefig(fname)"
   ]
  },
  {
   "cell_type": "code",
   "execution_count": 371,
   "id": "obvious-edward",
   "metadata": {},
   "outputs": [
    {
     "data": {
      "image/png": "[encoded data removed]",
      "text/plain": [
       "<Figure size 612x612 with 1 Axes>"
      ]
     },
     "metadata": {},
     "output_type": "display_data"
    }
   ],
   "source": [
    "plot_plot(nov, 'PB_GM12878')"
   ]
  },
  {
   "cell_type": "code",
   "execution_count": null,
   "id": "permanent-rhythm",
   "metadata": {},
   "outputs": [],
   "source": []
  },
  {
   "cell_type": "code",
   "execution_count": null,
   "id": "fifteen-cedar",
   "metadata": {},
   "outputs": [],
   "source": []
  },
  {
   "cell_type": "code",
   "execution_count": null,
   "id": "sensitive-sherman",
   "metadata": {},
   "outputs": [],
   "source": []
  },
  {
   "cell_type": "code",
   "execution_count": null,
   "id": "characteristic-beaver",
   "metadata": {},
   "outputs": [],
   "source": []
  },
  {
   "cell_type": "code",
   "execution_count": 270,
   "id": "inappropriate-appliance",
   "metadata": {
    "collapsed": true,
    "jupyter": {
     "outputs_hidden": true,
     "source_hidden": true
    }
   },
   "outputs": [
    {
     "data": {
      "text/html": [
       "<div>\n",
       "<style scoped>\n",
       "    .dataframe tbody tr th:only-of-type {\n",
       "        vertical-align: middle;\n",
       "    }\n",
       "\n",
       "    .dataframe tbody tr th {\n",
       "        vertical-align: top;\n",
       "    }\n",
       "\n",
       "    .dataframe thead th {\n",
       "        text-align: right;\n",
       "    }\n",
       "</style>\n",
       "<table border=\"1\" class=\"dataframe\">\n",
       "  <thead>\n",
       "    <tr style=\"text-align: right;\">\n",
       "      <th></th>\n",
       "      <th>tid</th>\n",
       "      <th>ill_known_nic</th>\n",
       "      <th>n_sjs_ill_known_nic</th>\n",
       "    </tr>\n",
       "  </thead>\n",
       "  <tbody>\n",
       "  </tbody>\n",
       "</table>\n",
       "</div>"
      ],
      "text/plain": [
       "Empty DataFrame\n",
       "Columns: [tid, ill_known_nic, n_sjs_ill_known_nic]\n",
       "Index: []"
      ]
     },
     "execution_count": 270,
     "metadata": {},
     "output_type": "execute_result"
    }
   ],
   "source": [
    "temp.loc[temp.tid == 'ENCODEHT000217262']"
   ]
  },
  {
   "cell_type": "code",
   "execution_count": 271,
   "id": "bound-medication",
   "metadata": {
    "collapsed": true,
    "jupyter": {
     "outputs_hidden": true,
     "source_hidden": true
    }
   },
   "outputs": [
    {
     "data": {
      "text/html": [
       "<div>\n",
       "<style scoped>\n",
       "    .dataframe tbody tr th:only-of-type {\n",
       "        vertical-align: middle;\n",
       "    }\n",
       "\n",
       "    .dataframe tbody tr th {\n",
       "        vertical-align: top;\n",
       "    }\n",
       "\n",
       "    .dataframe thead th {\n",
       "        text-align: right;\n",
       "    }\n",
       "</style>\n",
       "<table border=\"1\" class=\"dataframe\">\n",
       "  <thead>\n",
       "    <tr style=\"text-align: right;\">\n",
       "      <th></th>\n",
       "      <th>tid</th>\n",
       "      <th>sj_id</th>\n",
       "      <th>illumina_support</th>\n",
       "      <th>gencode_support</th>\n",
       "      <th>annot_transcript_id</th>\n",
       "      <th>transcript_novelty</th>\n",
       "      <th>sj_novelty</th>\n",
       "      <th>ill_or_known</th>\n",
       "      <th>ill_known_nic</th>\n",
       "    </tr>\n",
       "  </thead>\n",
       "  <tbody>\n",
       "    <tr>\n",
       "      <th>130889</th>\n",
       "      <td>ENCODEHT000209674</td>\n",
       "      <td>chr13_27424939_27427093_1</td>\n",
       "      <td>False</td>\n",
       "      <td>False</td>\n",
       "      <td>ENCODEHT000209674</td>\n",
       "      <td>NNC</td>\n",
       "      <td>NNC</td>\n",
       "      <td>False</td>\n",
       "      <td>False</td>\n",
       "    </tr>\n",
       "    <tr>\n",
       "      <th>130890</th>\n",
       "      <td>ENCODEHT000209674</td>\n",
       "      <td>chr13_27427193_27429869_1</td>\n",
       "      <td>True</td>\n",
       "      <td>True</td>\n",
       "      <td>ENCODEHT000209674</td>\n",
       "      <td>NNC</td>\n",
       "      <td>Known</td>\n",
       "      <td>True</td>\n",
       "      <td>True</td>\n",
       "    </tr>\n",
       "    <tr>\n",
       "      <th>130891</th>\n",
       "      <td>ENCODEHT000209674</td>\n",
       "      <td>chr13_27429967_27430532_1</td>\n",
       "      <td>True</td>\n",
       "      <td>True</td>\n",
       "      <td>ENCODEHT000209674</td>\n",
       "      <td>NNC</td>\n",
       "      <td>Known</td>\n",
       "      <td>True</td>\n",
       "      <td>True</td>\n",
       "    </tr>\n",
       "    <tr>\n",
       "      <th>130892</th>\n",
       "      <td>ENCODEHT000209674</td>\n",
       "      <td>chr13_27430622_27432730_1</td>\n",
       "      <td>True</td>\n",
       "      <td>True</td>\n",
       "      <td>ENCODEHT000209674</td>\n",
       "      <td>NNC</td>\n",
       "      <td>Known</td>\n",
       "      <td>True</td>\n",
       "      <td>True</td>\n",
       "    </tr>\n",
       "    <tr>\n",
       "      <th>130893</th>\n",
       "      <td>ENCODEHT000209674</td>\n",
       "      <td>chr13_27432805_27434138_1</td>\n",
       "      <td>True</td>\n",
       "      <td>True</td>\n",
       "      <td>ENCODEHT000209674</td>\n",
       "      <td>NNC</td>\n",
       "      <td>Known</td>\n",
       "      <td>True</td>\n",
       "      <td>True</td>\n",
       "    </tr>\n",
       "    <tr>\n",
       "      <th>130894</th>\n",
       "      <td>ENCODEHT000209674</td>\n",
       "      <td>chr13_27434220_27434804_1</td>\n",
       "      <td>True</td>\n",
       "      <td>True</td>\n",
       "      <td>ENCODEHT000209674</td>\n",
       "      <td>NNC</td>\n",
       "      <td>Known</td>\n",
       "      <td>True</td>\n",
       "      <td>True</td>\n",
       "    </tr>\n",
       "    <tr>\n",
       "      <th>130895</th>\n",
       "      <td>ENCODEHT000209674</td>\n",
       "      <td>chr13_27435035_27435132_1</td>\n",
       "      <td>True</td>\n",
       "      <td>True</td>\n",
       "      <td>ENCODEHT000209674</td>\n",
       "      <td>NNC</td>\n",
       "      <td>Known</td>\n",
       "      <td>True</td>\n",
       "      <td>True</td>\n",
       "    </tr>\n",
       "    <tr>\n",
       "      <th>130896</th>\n",
       "      <td>ENCODEHT000209674</td>\n",
       "      <td>chr13_27435193_27435432_1</td>\n",
       "      <td>True</td>\n",
       "      <td>True</td>\n",
       "      <td>ENCODEHT000209674</td>\n",
       "      <td>NNC</td>\n",
       "      <td>Known</td>\n",
       "      <td>True</td>\n",
       "      <td>True</td>\n",
       "    </tr>\n",
       "  </tbody>\n",
       "</table>\n",
       "</div>"
      ],
      "text/plain": [
       "                      tid                      sj_id  illumina_support  \\\n",
       "130889  ENCODEHT000209674  chr13_27424939_27427093_1             False   \n",
       "130890  ENCODEHT000209674  chr13_27427193_27429869_1              True   \n",
       "130891  ENCODEHT000209674  chr13_27429967_27430532_1              True   \n",
       "130892  ENCODEHT000209674  chr13_27430622_27432730_1              True   \n",
       "130893  ENCODEHT000209674  chr13_27432805_27434138_1              True   \n",
       "130894  ENCODEHT000209674  chr13_27434220_27434804_1              True   \n",
       "130895  ENCODEHT000209674  chr13_27435035_27435132_1              True   \n",
       "130896  ENCODEHT000209674  chr13_27435193_27435432_1              True   \n",
       "\n",
       "        gencode_support annot_transcript_id transcript_novelty sj_novelty  \\\n",
       "130889            False   ENCODEHT000209674                NNC        NNC   \n",
       "130890             True   ENCODEHT000209674                NNC      Known   \n",
       "130891             True   ENCODEHT000209674                NNC      Known   \n",
       "130892             True   ENCODEHT000209674                NNC      Known   \n",
       "130893             True   ENCODEHT000209674                NNC      Known   \n",
       "130894             True   ENCODEHT000209674                NNC      Known   \n",
       "130895             True   ENCODEHT000209674                NNC      Known   \n",
       "130896             True   ENCODEHT000209674                NNC      Known   \n",
       "\n",
       "        ill_or_known  ill_known_nic  \n",
       "130889         False          False  \n",
       "130890          True           True  \n",
       "130891          True           True  \n",
       "130892          True           True  \n",
       "130893          True           True  \n",
       "130894          True           True  \n",
       "130895          True           True  \n",
       "130896          True           True  "
      ]
     },
     "execution_count": 271,
     "metadata": {},
     "output_type": "execute_result"
    }
   ],
   "source": [
    "df.loc[df.tid == 'ENCODEHT000209674']"
   ]
  },
  {
   "cell_type": "code",
   "execution_count": 272,
   "id": "turkish-invite",
   "metadata": {
    "collapsed": true,
    "jupyter": {
     "outputs_hidden": true,
     "source_hidden": true
    }
   },
   "outputs": [
    {
     "data": {
      "text/html": [
       "<div>\n",
       "<style scoped>\n",
       "    .dataframe tbody tr th:only-of-type {\n",
       "        vertical-align: middle;\n",
       "    }\n",
       "\n",
       "    .dataframe tbody tr th {\n",
       "        vertical-align: top;\n",
       "    }\n",
       "\n",
       "    .dataframe thead th {\n",
       "        text-align: right;\n",
       "    }\n",
       "</style>\n",
       "<table border=\"1\" class=\"dataframe\">\n",
       "  <thead>\n",
       "    <tr style=\"text-align: right;\">\n",
       "      <th></th>\n",
       "      <th>tid</th>\n",
       "      <th>transcript_novelty</th>\n",
       "      <th>total_sjs</th>\n",
       "      <th>n_sjs_illumina</th>\n",
       "      <th>n_sjs_ill_known</th>\n",
       "      <th>n_sjs_ill_known_nic</th>\n",
       "    </tr>\n",
       "  </thead>\n",
       "  <tbody>\n",
       "    <tr>\n",
       "      <th>0</th>\n",
       "      <td>ENCODEHT000207494</td>\n",
       "      <td>NIC</td>\n",
       "      <td>20</td>\n",
       "      <td>20.0</td>\n",
       "      <td>20.0</td>\n",
       "      <td>20.0</td>\n",
       "    </tr>\n",
       "    <tr>\n",
       "      <th>1</th>\n",
       "      <td>ENCODEHT000207610</td>\n",
       "      <td>NIC</td>\n",
       "      <td>10</td>\n",
       "      <td>10.0</td>\n",
       "      <td>10.0</td>\n",
       "      <td>10.0</td>\n",
       "    </tr>\n",
       "    <tr>\n",
       "      <th>2</th>\n",
       "      <td>ENCODEHT000207695</td>\n",
       "      <td>ISM</td>\n",
       "      <td>5</td>\n",
       "      <td>5.0</td>\n",
       "      <td>5.0</td>\n",
       "      <td>5.0</td>\n",
       "    </tr>\n",
       "    <tr>\n",
       "      <th>3</th>\n",
       "      <td>ENCODEHT000207709</td>\n",
       "      <td>ISM</td>\n",
       "      <td>2</td>\n",
       "      <td>2.0</td>\n",
       "      <td>2.0</td>\n",
       "      <td>2.0</td>\n",
       "    </tr>\n",
       "    <tr>\n",
       "      <th>4</th>\n",
       "      <td>ENCODEHT000207748</td>\n",
       "      <td>ISM</td>\n",
       "      <td>6</td>\n",
       "      <td>6.0</td>\n",
       "      <td>6.0</td>\n",
       "      <td>6.0</td>\n",
       "    </tr>\n",
       "  </tbody>\n",
       "</table>\n",
       "</div>"
      ],
      "text/plain": [
       "                 tid transcript_novelty  total_sjs  n_sjs_illumina  \\\n",
       "0  ENCODEHT000207494                NIC         20            20.0   \n",
       "1  ENCODEHT000207610                NIC         10            10.0   \n",
       "2  ENCODEHT000207695                ISM          5             5.0   \n",
       "3  ENCODEHT000207709                ISM          2             2.0   \n",
       "4  ENCODEHT000207748                ISM          6             6.0   \n",
       "\n",
       "   n_sjs_ill_known  n_sjs_ill_known_nic  \n",
       "0             20.0                 20.0  \n",
       "1             10.0                 10.0  \n",
       "2              5.0                  5.0  \n",
       "3              2.0                  2.0  \n",
       "4              6.0                  6.0  "
      ]
     },
     "execution_count": 272,
     "metadata": {},
     "output_type": "execute_result"
    }
   ],
   "source": [
    "sjs_per_t.head()"
   ]
  },
  {
   "cell_type": "code",
   "execution_count": 273,
   "id": "official-yorkshire",
   "metadata": {
    "collapsed": true,
    "jupyter": {
     "outputs_hidden": true,
     "source_hidden": true
    }
   },
   "outputs": [
    {
     "data": {
      "text/plain": [
       "array(['NIC', 'ISM'], dtype=object)"
      ]
     },
     "execution_count": 273,
     "metadata": {},
     "output_type": "execute_result"
    }
   ],
   "source": [
    "# wtf is ISM doing here\n",
    "sjs_per_t.loc[sjs_per_t.n_sjs_ill_known != sjs_per_t.n_sjs_ill_known_nic].transcript_novelty.unique()"
   ]
  },
  {
   "cell_type": "code",
   "execution_count": 274,
   "id": "conservative-milwaukee",
   "metadata": {
    "collapsed": true,
    "jupyter": {
     "outputs_hidden": true,
     "source_hidden": true
    }
   },
   "outputs": [
    {
     "data": {
      "text/html": [
       "<div>\n",
       "<style scoped>\n",
       "    .dataframe tbody tr th:only-of-type {\n",
       "        vertical-align: middle;\n",
       "    }\n",
       "\n",
       "    .dataframe tbody tr th {\n",
       "        vertical-align: top;\n",
       "    }\n",
       "\n",
       "    .dataframe thead th {\n",
       "        text-align: right;\n",
       "    }\n",
       "</style>\n",
       "<table border=\"1\" class=\"dataframe\">\n",
       "  <thead>\n",
       "    <tr style=\"text-align: right;\">\n",
       "      <th></th>\n",
       "      <th>tid</th>\n",
       "      <th>transcript_novelty</th>\n",
       "      <th>total_sjs</th>\n",
       "      <th>n_sjs_illumina</th>\n",
       "      <th>n_sjs_ill_known</th>\n",
       "      <th>n_sjs_ill_known_nic</th>\n",
       "    </tr>\n",
       "  </thead>\n",
       "  <tbody>\n",
       "    <tr>\n",
       "      <th>667</th>\n",
       "      <td>ENCODEHT000274449</td>\n",
       "      <td>ISM</td>\n",
       "      <td>1</td>\n",
       "      <td>0.0</td>\n",
       "      <td>0.0</td>\n",
       "      <td>0.0</td>\n",
       "    </tr>\n",
       "  </tbody>\n",
       "</table>\n",
       "</div>"
      ],
      "text/plain": [
       "                   tid transcript_novelty  total_sjs  n_sjs_illumina  \\\n",
       "667  ENCODEHT000274449                ISM          1             0.0   \n",
       "\n",
       "     n_sjs_ill_known  n_sjs_ill_known_nic  \n",
       "667              0.0                  0.0  "
      ]
     },
     "execution_count": 274,
     "metadata": {},
     "output_type": "execute_result"
    }
   ],
   "source": [
    "sjs_per_t.loc[sjs_per_t.tid == 'ENCODEHT000274449']"
   ]
  },
  {
   "cell_type": "code",
   "execution_count": 275,
   "id": "classical-bidder",
   "metadata": {
    "collapsed": true,
    "jupyter": {
     "outputs_hidden": true,
     "source_hidden": true
    }
   },
   "outputs": [
    {
     "data": {
      "text/html": [
       "<div>\n",
       "<style scoped>\n",
       "    .dataframe tbody tr th:only-of-type {\n",
       "        vertical-align: middle;\n",
       "    }\n",
       "\n",
       "    .dataframe tbody tr th {\n",
       "        vertical-align: top;\n",
       "    }\n",
       "\n",
       "    .dataframe thead th {\n",
       "        text-align: right;\n",
       "    }\n",
       "</style>\n",
       "<table border=\"1\" class=\"dataframe\">\n",
       "  <thead>\n",
       "    <tr style=\"text-align: right;\">\n",
       "      <th></th>\n",
       "      <th>tid</th>\n",
       "      <th>sj_id</th>\n",
       "      <th>illumina_support</th>\n",
       "      <th>gencode_support</th>\n",
       "      <th>annot_transcript_id</th>\n",
       "      <th>transcript_novelty</th>\n",
       "      <th>sj_novelty</th>\n",
       "      <th>ill_or_known</th>\n",
       "      <th>ill_known_nic</th>\n",
       "    </tr>\n",
       "  </thead>\n",
       "  <tbody>\n",
       "    <tr>\n",
       "      <th>197132</th>\n",
       "      <td>ENCODEHT000274449</td>\n",
       "      <td>chr5_55941820_55942669_1</td>\n",
       "      <td>False</td>\n",
       "      <td>False</td>\n",
       "      <td>ENCODEHT000274449</td>\n",
       "      <td>ISM</td>\n",
       "      <td>NNC</td>\n",
       "      <td>False</td>\n",
       "      <td>False</td>\n",
       "    </tr>\n",
       "  </tbody>\n",
       "</table>\n",
       "</div>"
      ],
      "text/plain": [
       "                      tid                     sj_id  illumina_support  \\\n",
       "197132  ENCODEHT000274449  chr5_55941820_55942669_1             False   \n",
       "\n",
       "        gencode_support annot_transcript_id transcript_novelty sj_novelty  \\\n",
       "197132            False   ENCODEHT000274449                ISM        NNC   \n",
       "\n",
       "        ill_or_known  ill_known_nic  \n",
       "197132         False          False  "
      ]
     },
     "execution_count": 275,
     "metadata": {},
     "output_type": "execute_result"
    }
   ],
   "source": [
    "df.loc[df.tid == 'ENCODEHT000274449']"
   ]
  },
  {
   "cell_type": "code",
   "execution_count": 276,
   "id": "assigned-kingdom",
   "metadata": {
    "collapsed": true,
    "jupyter": {
     "outputs_hidden": true,
     "source_hidden": true
    }
   },
   "outputs": [
    {
     "data": {
      "text/html": [
       "<div>\n",
       "<style scoped>\n",
       "    .dataframe tbody tr th:only-of-type {\n",
       "        vertical-align: middle;\n",
       "    }\n",
       "\n",
       "    .dataframe tbody tr th {\n",
       "        vertical-align: top;\n",
       "    }\n",
       "\n",
       "    .dataframe thead th {\n",
       "        text-align: right;\n",
       "    }\n",
       "</style>\n",
       "<table border=\"1\" class=\"dataframe\">\n",
       "  <thead>\n",
       "    <tr style=\"text-align: right;\">\n",
       "      <th></th>\n",
       "      <th>tid</th>\n",
       "      <th>transcript_novelty</th>\n",
       "      <th>total_sjs</th>\n",
       "      <th>n_sjs_illumina</th>\n",
       "      <th>n_sjs_ill_known</th>\n",
       "      <th>n_sjs_ill_known_nic</th>\n",
       "    </tr>\n",
       "  </thead>\n",
       "  <tbody>\n",
       "    <tr>\n",
       "      <th>229</th>\n",
       "      <td>ENCODEHT000230837</td>\n",
       "      <td>ISM</td>\n",
       "      <td>2</td>\n",
       "      <td>1.0</td>\n",
       "      <td>1.0</td>\n",
       "      <td>2.0</td>\n",
       "    </tr>\n",
       "    <tr>\n",
       "      <th>1414</th>\n",
       "      <td>ENCODEHT000349514</td>\n",
       "      <td>ISM</td>\n",
       "      <td>9</td>\n",
       "      <td>8.0</td>\n",
       "      <td>8.0</td>\n",
       "      <td>9.0</td>\n",
       "    </tr>\n",
       "    <tr>\n",
       "      <th>3305</th>\n",
       "      <td>ENCODEHT000549185</td>\n",
       "      <td>ISM</td>\n",
       "      <td>7</td>\n",
       "      <td>6.0</td>\n",
       "      <td>6.0</td>\n",
       "      <td>7.0</td>\n",
       "    </tr>\n",
       "  </tbody>\n",
       "</table>\n",
       "</div>"
      ],
      "text/plain": [
       "                    tid transcript_novelty  total_sjs  n_sjs_illumina  \\\n",
       "229   ENCODEHT000230837                ISM          2             1.0   \n",
       "1414  ENCODEHT000349514                ISM          9             8.0   \n",
       "3305  ENCODEHT000549185                ISM          7             6.0   \n",
       "\n",
       "      n_sjs_ill_known  n_sjs_ill_known_nic  \n",
       "229               1.0                  2.0  \n",
       "1414              8.0                  9.0  \n",
       "3305              6.0                  7.0  "
      ]
     },
     "execution_count": 276,
     "metadata": {},
     "output_type": "execute_result"
    }
   ],
   "source": [
    "sjs_per_t.loc[(sjs_per_t.n_sjs_ill_known != sjs_per_t.n_sjs_ill_known_nic)&(sjs_per_t.transcript_novelty == 'ISM')]"
   ]
  },
  {
   "cell_type": "code",
   "execution_count": 247,
   "id": "periodic-burner",
   "metadata": {
    "collapsed": true,
    "jupyter": {
     "outputs_hidden": true,
     "source_hidden": true
    }
   },
   "outputs": [
    {
     "data": {
      "text/html": [
       "<div>\n",
       "<style scoped>\n",
       "    .dataframe tbody tr th:only-of-type {\n",
       "        vertical-align: middle;\n",
       "    }\n",
       "\n",
       "    .dataframe tbody tr th {\n",
       "        vertical-align: top;\n",
       "    }\n",
       "\n",
       "    .dataframe thead th {\n",
       "        text-align: right;\n",
       "    }\n",
       "</style>\n",
       "<table border=\"1\" class=\"dataframe\">\n",
       "  <thead>\n",
       "    <tr style=\"text-align: right;\">\n",
       "      <th></th>\n",
       "      <th>tid</th>\n",
       "      <th>sj_id</th>\n",
       "      <th>illumina_support</th>\n",
       "      <th>gencode_support</th>\n",
       "      <th>annot_transcript_id</th>\n",
       "      <th>transcript_novelty</th>\n",
       "      <th>sj_novelty</th>\n",
       "      <th>ill_or_known</th>\n",
       "      <th>ill_known_nic</th>\n",
       "    </tr>\n",
       "  </thead>\n",
       "  <tbody>\n",
       "    <tr>\n",
       "      <th>57188</th>\n",
       "      <td>ENCODEHT000230837</td>\n",
       "      <td>chr5_1632907_1633807_2</td>\n",
       "      <td>True</td>\n",
       "      <td>True</td>\n",
       "      <td>ENCODEHT000230837</td>\n",
       "      <td>ISM</td>\n",
       "      <td>Known</td>\n",
       "      <td>True</td>\n",
       "      <td>True</td>\n",
       "    </tr>\n",
       "    <tr>\n",
       "      <th>57189</th>\n",
       "      <td>ENCODEHT000230837</td>\n",
       "      <td>chr5_1629631_1632844_2</td>\n",
       "      <td>False</td>\n",
       "      <td>False</td>\n",
       "      <td>ENCODEHT000230837</td>\n",
       "      <td>ISM</td>\n",
       "      <td>NIC</td>\n",
       "      <td>False</td>\n",
       "      <td>True</td>\n",
       "    </tr>\n",
       "  </tbody>\n",
       "</table>\n",
       "</div>"
      ],
      "text/plain": [
       "                     tid                   sj_id  illumina_support  \\\n",
       "57188  ENCODEHT000230837  chr5_1632907_1633807_2              True   \n",
       "57189  ENCODEHT000230837  chr5_1629631_1632844_2             False   \n",
       "\n",
       "       gencode_support annot_transcript_id transcript_novelty sj_novelty  \\\n",
       "57188             True   ENCODEHT000230837                ISM      Known   \n",
       "57189            False   ENCODEHT000230837                ISM        NIC   \n",
       "\n",
       "       ill_or_known  ill_known_nic  \n",
       "57188          True           True  \n",
       "57189         False           True  "
      ]
     },
     "execution_count": 247,
     "metadata": {},
     "output_type": "execute_result"
    }
   ],
   "source": [
    "df.loc[df.tid == 'ENCODEHT000230837']"
   ]
  },
  {
   "cell_type": "code",
   "execution_count": 277,
   "id": "naughty-grill",
   "metadata": {
    "collapsed": true,
    "jupyter": {
     "outputs_hidden": true,
     "source_hidden": true
    }
   },
   "outputs": [
    {
     "data": {
      "text/html": [
       "<div>\n",
       "<style scoped>\n",
       "    .dataframe tbody tr th:only-of-type {\n",
       "        vertical-align: middle;\n",
       "    }\n",
       "\n",
       "    .dataframe tbody tr th {\n",
       "        vertical-align: top;\n",
       "    }\n",
       "\n",
       "    .dataframe thead th {\n",
       "        text-align: right;\n",
       "    }\n",
       "</style>\n",
       "<table border=\"1\" class=\"dataframe\">\n",
       "  <thead>\n",
       "    <tr style=\"text-align: right;\">\n",
       "      <th></th>\n",
       "      <th>tid</th>\n",
       "      <th>transcript_novelty</th>\n",
       "      <th>total_sjs</th>\n",
       "      <th>n_sjs_illumina</th>\n",
       "      <th>n_sjs_ill_known</th>\n",
       "      <th>n_sjs_ill_known_nic</th>\n",
       "    </tr>\n",
       "  </thead>\n",
       "  <tbody>\n",
       "    <tr>\n",
       "      <th>118</th>\n",
       "      <td>ENCODEHT000222269</td>\n",
       "      <td>NIC</td>\n",
       "      <td>11</td>\n",
       "      <td>9.0</td>\n",
       "      <td>11.0</td>\n",
       "      <td>11.0</td>\n",
       "    </tr>\n",
       "    <tr>\n",
       "      <th>126</th>\n",
       "      <td>ENCODEHT000223232</td>\n",
       "      <td>ISM</td>\n",
       "      <td>15</td>\n",
       "      <td>8.0</td>\n",
       "      <td>15.0</td>\n",
       "      <td>15.0</td>\n",
       "    </tr>\n",
       "    <tr>\n",
       "      <th>127</th>\n",
       "      <td>ENCODEHT000223235</td>\n",
       "      <td>ISM</td>\n",
       "      <td>14</td>\n",
       "      <td>7.0</td>\n",
       "      <td>14.0</td>\n",
       "      <td>14.0</td>\n",
       "    </tr>\n",
       "    <tr>\n",
       "      <th>149</th>\n",
       "      <td>ENCODEHT000225833</td>\n",
       "      <td>ISM</td>\n",
       "      <td>12</td>\n",
       "      <td>10.0</td>\n",
       "      <td>12.0</td>\n",
       "      <td>12.0</td>\n",
       "    </tr>\n",
       "    <tr>\n",
       "      <th>152</th>\n",
       "      <td>ENCODEHT000226184</td>\n",
       "      <td>ISM</td>\n",
       "      <td>1</td>\n",
       "      <td>0.0</td>\n",
       "      <td>1.0</td>\n",
       "      <td>1.0</td>\n",
       "    </tr>\n",
       "    <tr>\n",
       "      <th>...</th>\n",
       "      <td>...</td>\n",
       "      <td>...</td>\n",
       "      <td>...</td>\n",
       "      <td>...</td>\n",
       "      <td>...</td>\n",
       "      <td>...</td>\n",
       "    </tr>\n",
       "    <tr>\n",
       "      <th>29208</th>\n",
       "      <td>ENST00000649858.1</td>\n",
       "      <td>Known</td>\n",
       "      <td>11</td>\n",
       "      <td>10.0</td>\n",
       "      <td>11.0</td>\n",
       "      <td>11.0</td>\n",
       "    </tr>\n",
       "    <tr>\n",
       "      <th>29217</th>\n",
       "      <td>ENST00000650112.1</td>\n",
       "      <td>Known</td>\n",
       "      <td>2</td>\n",
       "      <td>1.0</td>\n",
       "      <td>2.0</td>\n",
       "      <td>2.0</td>\n",
       "    </tr>\n",
       "    <tr>\n",
       "      <th>29219</th>\n",
       "      <td>ENST00000650127.1</td>\n",
       "      <td>Known</td>\n",
       "      <td>20</td>\n",
       "      <td>4.0</td>\n",
       "      <td>20.0</td>\n",
       "      <td>20.0</td>\n",
       "    </tr>\n",
       "    <tr>\n",
       "      <th>29220</th>\n",
       "      <td>ENST00000650131.1</td>\n",
       "      <td>Known</td>\n",
       "      <td>3</td>\n",
       "      <td>2.0</td>\n",
       "      <td>3.0</td>\n",
       "      <td>3.0</td>\n",
       "    </tr>\n",
       "    <tr>\n",
       "      <th>29222</th>\n",
       "      <td>ENST00000650184.1</td>\n",
       "      <td>Known</td>\n",
       "      <td>3</td>\n",
       "      <td>2.0</td>\n",
       "      <td>3.0</td>\n",
       "      <td>3.0</td>\n",
       "    </tr>\n",
       "  </tbody>\n",
       "</table>\n",
       "<p>3585 rows × 6 columns</p>\n",
       "</div>"
      ],
      "text/plain": [
       "                     tid transcript_novelty  total_sjs  n_sjs_illumina  \\\n",
       "118    ENCODEHT000222269                NIC         11             9.0   \n",
       "126    ENCODEHT000223232                ISM         15             8.0   \n",
       "127    ENCODEHT000223235                ISM         14             7.0   \n",
       "149    ENCODEHT000225833                ISM         12            10.0   \n",
       "152    ENCODEHT000226184                ISM          1             0.0   \n",
       "...                  ...                ...        ...             ...   \n",
       "29208  ENST00000649858.1              Known         11            10.0   \n",
       "29217  ENST00000650112.1              Known          2             1.0   \n",
       "29219  ENST00000650127.1              Known         20             4.0   \n",
       "29220  ENST00000650131.1              Known          3             2.0   \n",
       "29222  ENST00000650184.1              Known          3             2.0   \n",
       "\n",
       "       n_sjs_ill_known  n_sjs_ill_known_nic  \n",
       "118               11.0                 11.0  \n",
       "126               15.0                 15.0  \n",
       "127               14.0                 14.0  \n",
       "149               12.0                 12.0  \n",
       "152                1.0                  1.0  \n",
       "...                ...                  ...  \n",
       "29208             11.0                 11.0  \n",
       "29217              2.0                  2.0  \n",
       "29219             20.0                 20.0  \n",
       "29220              3.0                  3.0  \n",
       "29222              3.0                  3.0  \n",
       "\n",
       "[3585 rows x 6 columns]"
      ]
     },
     "execution_count": 277,
     "metadata": {},
     "output_type": "execute_result"
    }
   ],
   "source": [
    "sjs_per_t.loc[sjs_per_t.n_sjs_illumina != sjs_per_t.n_sjs_ill_known]"
   ]
  },
  {
   "cell_type": "code",
   "execution_count": 278,
   "id": "informative-track",
   "metadata": {
    "collapsed": true,
    "jupyter": {
     "outputs_hidden": true,
     "source_hidden": true
    }
   },
   "outputs": [
    {
     "data": {
      "text/html": [
       "<div>\n",
       "<style scoped>\n",
       "    .dataframe tbody tr th:only-of-type {\n",
       "        vertical-align: middle;\n",
       "    }\n",
       "\n",
       "    .dataframe tbody tr th {\n",
       "        vertical-align: top;\n",
       "    }\n",
       "\n",
       "    .dataframe thead th {\n",
       "        text-align: right;\n",
       "    }\n",
       "</style>\n",
       "<table border=\"1\" class=\"dataframe\">\n",
       "  <thead>\n",
       "    <tr style=\"text-align: right;\">\n",
       "      <th></th>\n",
       "      <th>tid</th>\n",
       "      <th>transcript_novelty</th>\n",
       "      <th>total_sjs</th>\n",
       "      <th>n_sjs_illumina</th>\n",
       "      <th>n_sjs_ill_known</th>\n",
       "      <th>n_sjs_ill_known_nic</th>\n",
       "    </tr>\n",
       "  </thead>\n",
       "  <tbody>\n",
       "    <tr>\n",
       "      <th>667</th>\n",
       "      <td>ENCODEHT000274449</td>\n",
       "      <td>ISM</td>\n",
       "      <td>1</td>\n",
       "      <td>0.0</td>\n",
       "      <td>0.0</td>\n",
       "      <td>0.0</td>\n",
       "    </tr>\n",
       "  </tbody>\n",
       "</table>\n",
       "</div>"
      ],
      "text/plain": [
       "                   tid transcript_novelty  total_sjs  n_sjs_illumina  \\\n",
       "667  ENCODEHT000274449                ISM          1             0.0   \n",
       "\n",
       "     n_sjs_ill_known  n_sjs_ill_known_nic  \n",
       "667              0.0                  0.0  "
      ]
     },
     "execution_count": 278,
     "metadata": {},
     "output_type": "execute_result"
    }
   ],
   "source": [
    "sjs_per_t.loc[sjs_per_t.tid == 'ENCODEHT000274449']"
   ]
  },
  {
   "cell_type": "code",
   "execution_count": null,
   "id": "plastic-watch",
   "metadata": {},
   "outputs": [],
   "source": []
  },
  {
   "cell_type": "code",
   "execution_count": null,
   "id": "tamil-chile",
   "metadata": {},
   "outputs": [],
   "source": []
  },
  {
   "cell_type": "code",
   "execution_count": null,
   "id": "appointed-queue",
   "metadata": {},
   "outputs": [],
   "source": []
  },
  {
   "cell_type": "code",
   "execution_count": null,
   "id": "plastic-skating",
   "metadata": {},
   "outputs": [],
   "source": []
  }
 ],
 "metadata": {
  "kernelspec": {
   "display_name": "Python 3",
   "language": "python",
   "name": "python3"
  },
  "language_info": {
   "codemirror_mode": {
    "name": "ipython",
    "version": 3
   },
   "file_extension": ".py",
   "mimetype": "text/x-python",
   "name": "python",
   "nbconvert_exporter": "python",
   "pygments_lexer": "ipython3",
   "version": "3.7.4"
  }
 },
 "nbformat": 4,
 "nbformat_minor": 5
}
