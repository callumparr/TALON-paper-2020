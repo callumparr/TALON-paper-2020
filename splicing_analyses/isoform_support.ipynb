{
 "cells": [
  {
   "cell_type": "code",
   "execution_count": 35,
   "id": "blessed-hungarian",
   "metadata": {},
   "outputs": [],
   "source": [
    "import pandas as pd\n",
    "import matplotlib.pyplot as plt\n",
    "import seaborn as sns\n",
    "# sns.set_context('paper', font_scale=2)    \n"
   ]
  },
  {
   "cell_type": "code",
   "execution_count": 93,
   "id": "convertible-signature",
   "metadata": {},
   "outputs": [],
   "source": [
    "def add_n(ax, data, feature):\n",
    "    total = data[feature].sum()\n",
    "    ylim = ax.get_ylim()[1]\n",
    "    for p in ax.patches:\n",
    "        percentage = '{:,.0f}'.format(p.get_height())\n",
    "        x_scale = 0.034*len(percentage)\n",
    "        x = p.get_x() + p.get_width() / 2 - x_scale\n",
    "        y = p.get_y() + p.get_height() + ylim*0.01\n",
    "        ax.annotate(percentage, (x, y), size = 12)"
   ]
  },
  {
   "cell_type": "code",
   "execution_count": 36,
   "id": "ahead-loading",
   "metadata": {},
   "outputs": [],
   "source": [
    "def get_talon_nov_colors(samples=None):\n",
    "    c_dict = {'Known': '#009E73',\n",
    "              'ISM': '#0072B2',\n",
    "              'NIC': '#D55E00',\n",
    "              'NNC': '#E69F00',\n",
    "              'Antisense': '#000000',\n",
    "              'Intergenic': '#CC79A7',\n",
    "              'Genomic': '#F0E442'}\n",
    "    order = ['Known', 'ISM', 'NIC', 'NNC', 'Antisense', 'Intergenic', 'Genomic']\n",
    "    if samples:\n",
    "        keys = c_dict.keys()\n",
    "        pop_list = []\n",
    "        for key in keys:\n",
    "            if key not in samples:\n",
    "                pop_list.append(key)\n",
    "        for p in pop_list:\n",
    "            del c_dict[p]\n",
    "        order = [o for o in order if o in samples]   \n",
    "    return c_dict, order"
   ]
  },
  {
   "cell_type": "code",
   "execution_count": 40,
   "id": "adjustable-chinese",
   "metadata": {},
   "outputs": [],
   "source": [
    "def compute_prop_support(sj_file, ab_file, opref):\n",
    "    sj_df = pd.read_csv(sj_file, sep='\\t')\n",
    "    ab = pd.read_csv(ab_file, sep='\\t')  \n",
    "    \n",
    "    # merge with ab to get novelty info\n",
    "    ab = ab[['annot_transcript_id', 'transcript_novelty']]\n",
    "    sj_df = sj_df.merge(ab, how='left', left_on='tid', right_on='annot_transcript_id')    \n",
    "    \n",
    "    # count up splice junctions per transcript\n",
    "    sjs_per_t = sj_df[['tid', 'sj_id']].groupby('tid').count()\n",
    "    sjs_per_t.reset_index(inplace=True)\n",
    "    sjs_per_t.rename({'sj_id':'total_sjs'}, axis=1, inplace=True)\n",
    "    \n",
    "    # groupby transcript id and illumina support\n",
    "    sj_df = sj_df[['tid', 'transcript_novelty', 'illumina_support', 'sj_id']].groupby(['tid', 'transcript_novelty', 'illumina_support']).count()\n",
    "    sj_df.reset_index(inplace=True)\n",
    "    sj_df.rename({'sj_id':'n_sjs'}, axis=1, inplace=True)\n",
    "    \n",
    "    # merge with total sjs and calc % supported\n",
    "    sj_df = sj_df.merge(sjs_per_t, how='left', on='tid')\n",
    "    sj_df['perc_supported'] = (sj_df.n_sjs/sj_df.total_sjs)*100\n",
    "    \n",
    "    # remove unsupported bois\n",
    "    sj_df = sj_df.loc[sj_df.illumina_support == True]\n",
    "\n",
    "    # drop antisense, intergenic, and genomic cause they bad\n",
    "    novs = ['Known', 'ISM', 'NIC', 'NNC']\n",
    "    sj_df = sj_df.loc[sj_df.transcript_novelty.isin(novs)]\n",
    "    \n",
    "    # plot plot\n",
    "    c_dict, order = get_talon_nov_colors(novs)\n",
    "    ax = sns.violinplot(data=sj_df, x='transcript_novelty', y='perc_supported', order=order, palette=c_dict, saturation=1, linewidth=0.5)\n",
    "    ax.set_ylabel('% SJs in transcript supported by Illumina')\n",
    "    ax.set_xlabel('Isoform Novelty')\n",
    "    fname = '{}_illumina_sj_support.pdf'.format(opref)\n",
    "    plt.savefig(fname)\n",
    "    \n",
    "    # average and median of each category\n",
    "    for n in novs: \n",
    "        temp = sj_df.loc[sj_df.transcript_novelty==n]\n",
    "        print()\n",
    "        print('Mean % Illumina supported SJs for {}: {}'.format(n, temp.perc_supported.mean()))\n",
    "        print('Median % Illumina supported SJs for {}: {}'.format(n, temp.perc_supported.median()))    "
   ]
  },
  {
   "cell_type": "code",
   "execution_count": 94,
   "id": "favorite-royal",
   "metadata": {},
   "outputs": [],
   "source": [
    "def plot_unsupp_sjs_by_nov(sj_file, sj_nov_file, oprefix):\n",
    "    sj_df = pd.read_csv(sj_file, sep='\\t')\n",
    "    nov_df = pd.read_csv(sj_nov_file, sep='\\t', header=None, \n",
    "        usecols=[0,1,2,3,9], names=['chrom', 'start', 'stop', 'strand', 'novelty'])\n",
    "    \n",
    "    nov_df['sj_id'] = nov_df.chrom+'_'+nov_df.start.astype(str)+'_'+nov_df.stop.astype(str)+'_'+nov_df.strand.astype(str)\n",
    "    nov_df = nov_df[['sj_id', 'novelty']]\n",
    "    \n",
    "    # limit to just sjs with no illumina support\n",
    "    sj_df = sj_df.loc[sj_df.illumina_support == False]\n",
    "\n",
    "    # merge with novelty of splice junctions\n",
    "    sj_df = sj_df.merge(nov_df, how='left', on='sj_id')\n",
    "    \n",
    "    sj_df = sj_df[['sj_id', 'novelty']]\n",
    "    sj_df.drop_duplicates(inplace=True)\n",
    "\n",
    "    # groupby and count # of Illumina-supported SJs per SJ novelty category\n",
    "    sj_df = sj_df.groupby('novelty').count()\n",
    "    sj_df.reset_index(inplace=True)\n",
    "    sj_df.rename({'sj_id':'sj_count'}, axis=1, inplace=True)\n",
    "    \n",
    "    # plot plot\n",
    "    c_dict, order = get_talon_nov_colors(['Known', 'NIC', 'NNC'])\n",
    "    ax = sns.barplot(data=sj_df, x='novelty', y='sj_count', palette=c_dict, hue_order=order, saturation=1)\n",
    "    ax.set_ylabel('Number of SJs unsupported by Illumina')\n",
    "    ax.set_xlabel('SJ Novelty')\n",
    "    ax.spines['right'].set_visible(False)\n",
    "    ax.spines['top'].set_visible(False)\n",
    "    add_n(ax, sj_df, 'sj_count')\n",
    "    \n",
    "    fname = '{}_ill_unsupported_sj_novelty.pdf'.format(oprefix)\n",
    "    plt.savefig(fname)"
   ]
  },
  {
   "cell_type": "markdown",
   "id": "respected-three",
   "metadata": {},
   "source": [
    "## PacBio"
   ]
  },
  {
   "cell_type": "code",
   "execution_count": 41,
   "id": "modular-missouri",
   "metadata": {},
   "outputs": [
    {
     "name": "stdout",
     "output_type": "stream",
     "text": [
      "\n",
      "Mean % Illumina supported SJs for Known: 96.49993710385937\n",
      "Median % Illumina supported SJs for Known: 100.0\n",
      "\n",
      "Mean % Illumina supported SJs for ISM: 99.5236694953262\n",
      "Median % Illumina supported SJs for ISM: 100.0\n",
      "\n",
      "Mean % Illumina supported SJs for NIC: 98.11438401683239\n",
      "Median % Illumina supported SJs for NIC: 100.0\n",
      "\n",
      "Mean % Illumina supported SJs for NNC: 93.48281695577082\n",
      "Median % Illumina supported SJs for NNC: 100.0\n"
     ]
    },
    {
     "data": {
      "image/png": "[encoded data removed]",
      "text/plain": [
       "<Figure size 432x288 with 1 Axes>"
      ]
     },
     "metadata": {
      "needs_background": "light"
     },
     "output_type": "display_data"
    }
   ],
   "source": [
    "sj_file = 'pb_GM12878_sj_tid_support.tsv'\n",
    "ab_file = 'pb_ont_talon_abundance_filtered.tsv'\n",
    "\n",
    "compute_prop_support(sj_file, ab_file, 'PB_GM12878')"
   ]
  },
  {
   "cell_type": "code",
   "execution_count": 95,
   "id": "beautiful-herald",
   "metadata": {},
   "outputs": [
    {
     "data": {
      "image/png": "[encoded data removed]",
      "text/plain": [
       "<Figure size 432x288 with 1 Axes>"
      ]
     },
     "metadata": {
      "needs_background": "light"
     },
     "output_type": "display_data"
    }
   ],
   "source": [
    "sj_file = 'pb_GM12878_sj_tid_support.tsv'\n",
    "sj_nov_file = 'pb_talon_GM12878_sjs_novelty.tab'\n",
    "\n",
    "plot_unsupp_sjs_by_nov(sj_file, sj_nov_file, 'figures/PB_GM12878')"
   ]
  },
  {
   "cell_type": "markdown",
   "id": "appointed-basin",
   "metadata": {},
   "source": [
    "## ONT"
   ]
  },
  {
   "cell_type": "code",
   "execution_count": 96,
   "id": "understanding-crossing",
   "metadata": {},
   "outputs": [
    {
     "name": "stdout",
     "output_type": "stream",
     "text": [
      "\n",
      "Mean % Illumina supported SJs for Known: 94.39099416715977\n",
      "Median % Illumina supported SJs for Known: 100.0\n",
      "\n",
      "Mean % Illumina supported SJs for ISM: 96.67296784336611\n",
      "Median % Illumina supported SJs for ISM: 100.0\n",
      "\n",
      "Mean % Illumina supported SJs for NIC: 82.87438998469071\n",
      "Median % Illumina supported SJs for NIC: 85.71428571428571\n",
      "\n",
      "Mean % Illumina supported SJs for NNC: 81.26478960319763\n",
      "Median % Illumina supported SJs for NNC: 83.33333333333334\n"
     ]
    },
    {
     "data": {
      "image/png": "[encoded data removed]",
      "text/plain": [
       "<Figure size 432x288 with 1 Axes>"
      ]
     },
     "metadata": {
      "needs_background": "light"
     },
     "output_type": "display_data"
    }
   ],
   "source": [
    "sj_file = 'ont_GM12878_sj_tid_support.tsv'\n",
    "ab_file = 'pb_ont_talon_abundance_filtered.tsv'\n",
    "\n",
    "compute_prop_support(sj_file, ab_file, 'figures/ONT_GM12878')"
   ]
  },
  {
   "cell_type": "code",
   "execution_count": null,
   "id": "painful-tablet",
   "metadata": {},
   "outputs": [],
   "source": [
    "sj_file = 'ont_GM12878_sj_tid_support.tsv'\n",
    "sj_nov_file = 'ont_talon_GM12878_sjs_novelty.tab'\n",
    "\n",
    "plot_unsupp_sjs_by_nov(sj_file, sj_nov_file, 'figures/PB_GM12878')"
   ]
  }
 ],
 "metadata": {
  "kernelspec": {
   "display_name": "Python 3",
   "language": "python",
   "name": "python3"
  },
  "language_info": {
   "codemirror_mode": {
    "name": "ipython",
    "version": 3
   },
   "file_extension": ".py",
   "mimetype": "text/x-python",
   "name": "python",
   "nbconvert_exporter": "python",
   "pygments_lexer": "ipython3",
   "version": "3.7.4"
  }
 },
 "nbformat": 4,
 "nbformat_minor": 5
}
